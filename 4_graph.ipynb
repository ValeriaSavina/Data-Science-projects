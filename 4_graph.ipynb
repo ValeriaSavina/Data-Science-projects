{
 "cells": [
  {
   "cell_type": "markdown",
   "id": "0bbf4b5c",
   "metadata": {},
   "source": [
    "# Графовые алгоритмы"
   ]
  },
  {
   "cell_type": "markdown",
   "id": "5031ac69",
   "metadata": {},
   "source": [
    "Граф - это структура, которая отображает данные в виде *вершин* и *ребер*. Граф может быть представлени в виде **aGraph = (V, E)** , где **V** - набор вершин, а **E** - ребро между ними. Ребро соединяет две вершины и таким образом отображает связь между ними."
   ]
  },
  {
   "cell_type": "code",
   "execution_count": 2,
   "id": "15fb47c5",
   "metadata": {
    "ExecuteTime": {
     "end_time": "2023-09-29T19:50:49.754406Z",
     "start_time": "2023-09-29T19:50:48.608512Z"
    }
   },
   "outputs": [],
   "source": [
    "import networkx as nx\n",
    "import matplotlib.pyplot as plt"
   ]
  },
  {
   "cell_type": "markdown",
   "id": "1ce9bc6a",
   "metadata": {},
   "source": [
    "## Поиск в ширину"
   ]
  },
  {
   "cell_type": "markdown",
   "id": "977df9d5",
   "metadata": {},
   "source": [
    "Алгоритм **BFS (breadth-first search)** начинает с корневой вершины и исследует вершины в окрестности. Затем он преходит на следующий уровень окрестности и повторяет процесс."
   ]
  },
  {
   "cell_type": "code",
   "execution_count": 3,
   "id": "f97261e7",
   "metadata": {
    "ExecuteTime": {
     "end_time": "2023-09-29T20:39:44.300589Z",
     "start_time": "2023-09-29T20:39:44.294476Z"
    }
   },
   "outputs": [],
   "source": [
    "def bfs(graph, start):\n",
    "    visited = []\n",
    "    queue = [start]\n",
    "    \n",
    "    while queue:\n",
    "        node = queue.pop(0)\n",
    "        if node not in visited:\n",
    "            visited.append(node)\n",
    "            neighbours = graph[node]\n",
    "            for neighbour in neighbours:\n",
    "                queue.append(neighbour)\n",
    "    return visited"
   ]
  },
  {
   "cell_type": "code",
   "execution_count": 22,
   "id": "7e7b1e27",
   "metadata": {
    "ExecuteTime": {
     "end_time": "2023-09-29T20:04:53.422694Z",
     "start_time": "2023-09-29T20:04:53.325345Z"
    }
   },
   "outputs": [
    {
     "data": {
      "image/png": "[encoded data removed]",
      "text/plain": [
       "<Figure size 640x480 with 1 Axes>"
      ]
     },
     "metadata": {},
     "output_type": "display_data"
    }
   ],
   "source": [
    "vertices = ('a', 'b', 'c', 'd', 'e', 'f')\n",
    "edges = [('a', 'b'), ('a', 'c'), ('a', 'd'), ('b', 'e'), ('b', 'a'),\n",
    "         ('e', 'b'), ('e', 'f'), ('f', 'e'), ('c', 'a')]\n",
    "\n",
    "G = nx.Graph()\n",
    "G.add_nodes_from(vertices)\n",
    "G.add_edges_from(edges)\n",
    "\n",
    "nx.draw(G,\n",
    "        pos=nx.spring_layout(G),\n",
    "        with_labels=True,\n",
    "        node_color='y',\n",
    "        node_size=800)"
   ]
  },
  {
   "cell_type": "code",
   "execution_count": 5,
   "id": "490cd9fd",
   "metadata": {
    "ExecuteTime": {
     "end_time": "2023-09-29T20:39:37.463778Z",
     "start_time": "2023-09-29T20:39:37.452331Z"
    }
   },
   "outputs": [
    {
     "data": {
      "text/plain": [
       "['a', 'b', 'c', 'd', 'e', 'f']"
      ]
     },
     "execution_count": 5,
     "metadata": {},
     "output_type": "execute_result"
    }
   ],
   "source": [
    "bfs(G, 'a')"
   ]
  },
  {
   "cell_type": "markdown",
   "id": "b54e34af",
   "metadata": {},
   "source": [
    "## Поиск в глубину"
   ]
  },
  {
   "cell_type": "markdown",
   "id": "4039e0b1",
   "metadata": {},
   "source": [
    "Алгоритм **DFS (depth-first search)** - это альтернатива BFS, используемая для поиска данных в графе. DFS отличается от BFS тем, что после запуска из корневой вершины алгоритм проходит как можно дальше по каждому из уникальных путей, перебирая их одина за другим. \n",
    "\n",
    "Логика алгоритма следующая:\n",
    "\n",
    "- Как только он успешно достигает конечной глубины каждого пути, он помечает флагом все вершины на этом пути как посещенные. После завершения пути алгоритм возвращается назад. \n",
    "- Если он может найти еще один уникальный путь от корневого узла, процесс повторяется. \n",
    "- Алгоритм продолжает двигаться по новым ветвям до тех пор, пока все ветви не будут посещены."
   ]
  },
  {
   "cell_type": "code",
   "execution_count": 24,
   "id": "864dcb75",
   "metadata": {
    "ExecuteTime": {
     "end_time": "2023-09-29T20:07:09.492874Z",
     "start_time": "2023-09-29T20:07:09.487462Z"
    }
   },
   "outputs": [],
   "source": [
    "def dfs(graph, start, visited=None):\n",
    "    if visited is None:\n",
    "        visited = set()\n",
    "    visited.add(start)\n",
    "    print(start)\n",
    "    for next in graph[start] - visited:\n",
    "        dfs(graph, next, visited)\n",
    "    return visited"
   ]
  },
  {
   "cell_type": "code",
   "execution_count": 25,
   "id": "466f1e6a",
   "metadata": {
    "ExecuteTime": {
     "end_time": "2023-09-29T20:07:21.078093Z",
     "start_time": "2023-09-29T20:07:21.068304Z"
    }
   },
   "outputs": [
    {
     "name": "stdout",
     "output_type": "stream",
     "text": [
      "a\n",
      "d\n",
      "c\n",
      "b\n",
      "e\n",
      "f\n"
     ]
    },
    {
     "data": {
      "text/plain": [
       "{'a', 'b', 'c', 'd', 'e', 'f'}"
      ]
     },
     "execution_count": 25,
     "metadata": {},
     "output_type": "execute_result"
    }
   ],
   "source": [
    "graph = {'a': set(['b','c','d']),\n",
    "         'b': set(['e','a']),\n",
    "         'c': set(['a']),\n",
    "         'd': set(['a']),\n",
    "         'e': set(['b','f']),\n",
    "         'f': set(['e']),\n",
    "         }\n",
    "\n",
    "dfs(graph, start='a')"
   ]
  },
  {
   "cell_type": "markdown",
   "id": "ea5734a0",
   "metadata": {},
   "source": [
    "## Задание (2 балла) + 4 б"
   ]
  },
  {
   "cell_type": "markdown",
   "id": "09ddd10b",
   "metadata": {
    "ExecuteTime": {
     "end_time": "2023-09-29T20:23:44.694347Z",
     "start_time": "2023-09-29T20:23:44.686957Z"
    }
   },
   "source": [
    "Создать и нарисовать произвольный граф двумя описанными выше способами, и реальзовать для него алгоритмы BFS и DFS"
   ]
  },
  {
   "cell_type": "code",
   "execution_count": 46,
   "id": "51039be4",
   "metadata": {},
   "outputs": [
    {
     "data": {
      "image/png": "[encoded data removed]",
      "text/plain": [
       "<Figure size 640x480 with 1 Axes>"
      ]
     },
     "metadata": {},
     "output_type": "display_data"
    }
   ],
   "source": [
    "#решение\n",
    "#граф через список\n",
    "import matplotlib.pyplot as plt\n",
    "import networkx as nx\n",
    "\n",
    "G = nx.Graph() \n",
    "nodes = [1, 2, 3, 4, 5]\n",
    "\n",
    "# определяем список рёбер\n",
    "edges = [(1, 2), (1, 3), (1, 4), (2, 3), (2, 4), (3, 5)]\n",
    "\n",
    "# добавляем информацию в объект графа\n",
    "G.add_nodes_from(nodes)\n",
    "G.add_edges_from(edges)\n",
    "\n",
    "# рисуем граф и отображаем его\n",
    "nx.draw(G, with_labels=True, font_weight='light', node_color='pink', node_size=900)\n",
    "plt.show()"
   ]
  },
  {
   "cell_type": "code",
   "execution_count": 49,
   "metadata": {},
   "outputs": [
    {
     "data": {
      "image/png": "[encoded data removed]",
      "text/plain": [
       "<Figure size 640x480 with 1 Axes>"
      ]
     },
     "metadata": {},
     "output_type": "display_data"
    }
   ],
   "source": [
    "#граф через кортеж\n",
    "vertices = (1,2,3,4,5)\n",
    "edges = [(1, 2), (1, 3), (1, 4), (2, 3), (2, 4), (3, 5)]\n",
    "\n",
    "G = nx.Graph() \n",
    "\n",
    "# добавляем информацию в объект графа\n",
    "G.add_nodes_from(vertices)\n",
    "G.add_edges_from(edges)\n",
    "\n",
    "# рисуем граф и отображаем его\n",
    "nx.draw(G, with_labels=True, font_weight='light', node_color='pink', node_size=900)\n",
    "plt.show()"
   ]
  },
  {
   "cell_type": "code",
   "execution_count": 48,
   "metadata": {},
   "outputs": [
    {
     "name": "stdout",
     "output_type": "stream",
     "text": [
      "DFS:\n",
      "1 4 2 0 1 3 "
     ]
    }
   ],
   "source": [
    "def dfs(graph, start):\n",
    "   visited = set()\n",
    "   stack = [start]\n",
    "\n",
    "   while stack:\n",
    "       vertex = stack.pop()\n",
    "       print(vertex, end=\" \")\n",
    "\n",
    "       for neighbour in graph[vertex]:\n",
    "           if neighbour not in visited:\n",
    "               visited.add(neighbour)\n",
    "               stack.append(neighbour)\n",
    "\n",
    "# Driver Code\n",
    "print(\"DFS:\")\n",
    "dfs(graph, '1')\n"
   ]
  },
  {
   "cell_type": "code",
   "execution_count": 51,
   "metadata": {},
   "outputs": [
    {
     "name": "stdout",
     "output_type": "stream",
     "text": [
      "BFS:\n",
      "1 3 0 4 1 2 "
     ]
    }
   ],
   "source": [
    "def bfs(graph, start):\n",
    "   visited = set()\n",
    "   queue = [start]\n",
    "\n",
    "   while queue:\n",
    "       vertex = queue.pop(0)\n",
    "       print(vertex, end=\" \")\n",
    "\n",
    "       for neighbour in graph[vertex]:\n",
    "           if neighbour not in visited:\n",
    "               visited.add(neighbour)\n",
    "               queue.append(neighbour)\n",
    "\n",
    "# Driver Code\n",
    "print(\"BFS:\")\n",
    "bfs(graph, '1')\n"
   ]
  }
 ],
 "metadata": {
  "kernelspec": {
   "display_name": "Python 3 (ipykernel)",
   "language": "python",
   "name": "python3"
  },
  "language_info": {
   "codemirror_mode": {
    "name": "ipython",
    "version": 3
   },
   "file_extension": ".py",
   "mimetype": "text/x-python",
   "name": "python",
   "nbconvert_exporter": "python",
   "pygments_lexer": "ipython3",
   "version": "3.11.5"
  },
  "latex_envs": {
   "LaTeX_envs_menu_present": true,
   "autoclose": false,
   "autocomplete": true,
   "bibliofile": "biblio.bib",
   "cite_by": "apalike",
   "current_citInitial": 1,
   "eqLabelWithNumbers": true,
   "eqNumInitial": 1,
   "hotkeys": {
    "equation": "Ctrl-E",
    "itemize": "Ctrl-I"
   },
   "labels_anchors": false,
   "latex_user_defs": false,
   "report_style_numbering": false,
   "user_envs_cfg": false
  },
  "toc": {
   "base_numbering": 1,
   "nav_menu": {},
   "number_sections": true,
   "sideBar": true,
   "skip_h1_title": false,
   "title_cell": "Table of Contents",
   "title_sidebar": "Contents",
   "toc_cell": false,
   "toc_position": {},
   "toc_section_display": true,
   "toc_window_display": true
  },
  "varInspector": {
   "cols": {
    "lenName": 16,
    "lenType": 16,
    "lenVar": 40
   },
   "kernels_config": {
    "python": {
     "delete_cmd_postfix": "",
     "delete_cmd_prefix": "del ",
     "library": "var_list.py",
     "varRefreshCmd": "print(var_dic_list())"
    },
    "r": {
     "delete_cmd_postfix": ") ",
     "delete_cmd_prefix": "rm(",
     "library": "var_list.r",
     "varRefreshCmd": "cat(var_dic_list()) "
    }
   },
   "types_to_exclude": [
    "module",
    "function",
    "builtin_function_or_method",
    "instance",
    "_Feature"
   ],
   "window_display": false
  }
 },
 "nbformat": 4,
 "nbformat_minor": 5
}
