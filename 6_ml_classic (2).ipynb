{
  "cells": [
    {
      "cell_type": "code",
      "execution_count": 10,
      "metadata": {},
      "outputs": [],
      "source": [
        "import pandas as pd\n",
        "import numpy as np"
      ]
    },
    {
      "cell_type": "code",
      "execution_count": 11,
      "metadata": {
        "colab": {
          "base_uri": "https://localhost:8080/",
          "height": 206
        },
        "id": "wP3lvvjS7GlY",
        "outputId": "8f18a80e-c051-4be4-ab19-c239bcc7673e"
      },
      "outputs": [
        {
          "data": {
            "text/html": [
              "<div>\n",
              "<style scoped>\n",
              "    .dataframe tbody tr th:only-of-type {\n",
              "        vertical-align: middle;\n",
              "    }\n",
              "\n",
              "    .dataframe tbody tr th {\n",
              "        vertical-align: top;\n",
              "    }\n",
              "\n",
              "    .dataframe thead th {\n",
              "        text-align: right;\n",
              "    }\n",
              "</style>\n",
              "<table border=\"1\" class=\"dataframe\">\n",
              "  <thead>\n",
              "    <tr style=\"text-align: right;\">\n",
              "      <th></th>\n",
              "      <th>Survived</th>\n",
              "      <th>Pclass</th>\n",
              "      <th>Name</th>\n",
              "      <th>Sex</th>\n",
              "      <th>Age</th>\n",
              "      <th>Fare</th>\n",
              "    </tr>\n",
              "  </thead>\n",
              "  <tbody>\n",
              "    <tr>\n",
              "      <th>0</th>\n",
              "      <td>0</td>\n",
              "      <td>3</td>\n",
              "      <td>Mr. Owen Harris Braund</td>\n",
              "      <td>male</td>\n",
              "      <td>22.0</td>\n",
              "      <td>7.2500</td>\n",
              "    </tr>\n",
              "    <tr>\n",
              "      <th>1</th>\n",
              "      <td>1</td>\n",
              "      <td>1</td>\n",
              "      <td>Mrs. John Bradley (Florence Briggs Thayer) Cum...</td>\n",
              "      <td>female</td>\n",
              "      <td>38.0</td>\n",
              "      <td>71.2833</td>\n",
              "    </tr>\n",
              "    <tr>\n",
              "      <th>2</th>\n",
              "      <td>1</td>\n",
              "      <td>3</td>\n",
              "      <td>Miss. Laina Heikkinen</td>\n",
              "      <td>female</td>\n",
              "      <td>26.0</td>\n",
              "      <td>7.9250</td>\n",
              "    </tr>\n",
              "    <tr>\n",
              "      <th>3</th>\n",
              "      <td>1</td>\n",
              "      <td>1</td>\n",
              "      <td>Mrs. Jacques Heath (Lily May Peel) Futrelle</td>\n",
              "      <td>female</td>\n",
              "      <td>35.0</td>\n",
              "      <td>53.1000</td>\n",
              "    </tr>\n",
              "    <tr>\n",
              "      <th>4</th>\n",
              "      <td>0</td>\n",
              "      <td>3</td>\n",
              "      <td>Mr. William Henry Allen</td>\n",
              "      <td>male</td>\n",
              "      <td>35.0</td>\n",
              "      <td>8.0500</td>\n",
              "    </tr>\n",
              "  </tbody>\n",
              "</table>\n",
              "</div>"
            ],
            "text/plain": [
              "   Survived  Pclass                                               Name  \\\n",
              "0         0       3                             Mr. Owen Harris Braund   \n",
              "1         1       1  Mrs. John Bradley (Florence Briggs Thayer) Cum...   \n",
              "2         1       3                              Miss. Laina Heikkinen   \n",
              "3         1       1        Mrs. Jacques Heath (Lily May Peel) Futrelle   \n",
              "4         0       3                            Mr. William Henry Allen   \n",
              "\n",
              "      Sex   Age     Fare  \n",
              "0    male  22.0   7.2500  \n",
              "1  female  38.0  71.2833  \n",
              "2  female  26.0   7.9250  \n",
              "3  female  35.0  53.1000  \n",
              "4    male  35.0   8.0500  "
            ]
          },
          "execution_count": 11,
          "metadata": {},
          "output_type": "execute_result"
        }
      ],
      "source": [
        "# Загружаем .csv файл в DataFrame:\n",
        "df = pd.read_csv(\"titanic.csv\", usecols=[\"Survived\", \"Pclass\", \"Name\", \"Sex\", \"Age\", \"Fare\"])\n",
        "df.head()"
      ]
    },
    {
      "cell_type": "markdown",
      "metadata": {
        "id": "zGSxlEPO246Z"
      },
      "source": [
        "# Постановка задачи"
      ]
    },
    {
      "cell_type": "markdown",
      "metadata": {
        "id": "OwAyhql-4SR9"
      },
      "source": [
        "Хотим научиться предсказывать, выживет ли поссажир, исходя из его признаков"
      ]
    },
    {
      "cell_type": "code",
      "execution_count": 12,
      "metadata": {
        "colab": {
          "base_uri": "https://localhost:8080/",
          "height": 448
        },
        "id": "10UwcDTc4f7H",
        "outputId": "bfcc7321-a679-480f-9d9d-fd0bd9daa96f"
      },
      "outputs": [
        {
          "data": {
            "text/plain": [
              "<Axes: >"
            ]
          },
          "execution_count": 12,
          "metadata": {},
          "output_type": "execute_result"
        },
        {
          "data": {
            "image/png": "[encoded data removed]",
            "text/plain": [
              "<Figure size 640x480 with 1 Axes>"
            ]
          },
          "metadata": {},
          "output_type": "display_data"
        }
      ],
      "source": [
        "df[\"Survived\"].hist(bins=10)"
      ]
    },
    {
      "cell_type": "markdown",
      "metadata": {
        "id": "Gj0aJRnw4pdw"
      },
      "source": [
        "# Препроцессинг данных"
      ]
    },
    {
      "cell_type": "markdown",
      "metadata": {
        "id": "dprrqMD15HUT"
      },
      "source": [
        "Практически все модели работают только с числовыми признаками (фичами), поэтому все фичи необходимо перевести в int/float\n"
      ]
    },
    {
      "cell_type": "code",
      "execution_count": 13,
      "metadata": {
        "colab": {
          "base_uri": "https://localhost:8080/",
          "height": 206
        },
        "id": "c816FsQf7wxi",
        "outputId": "b2ec62bf-9424-4ae6-d853-6d71fb8dbaa5"
      },
      "outputs": [
        {
          "data": {
            "text/html": [
              "<div>\n",
              "<style scoped>\n",
              "    .dataframe tbody tr th:only-of-type {\n",
              "        vertical-align: middle;\n",
              "    }\n",
              "\n",
              "    .dataframe tbody tr th {\n",
              "        vertical-align: top;\n",
              "    }\n",
              "\n",
              "    .dataframe thead th {\n",
              "        text-align: right;\n",
              "    }\n",
              "</style>\n",
              "<table border=\"1\" class=\"dataframe\">\n",
              "  <thead>\n",
              "    <tr style=\"text-align: right;\">\n",
              "      <th></th>\n",
              "      <th>Survived</th>\n",
              "      <th>Pclass</th>\n",
              "      <th>Name</th>\n",
              "      <th>Sex</th>\n",
              "      <th>Age</th>\n",
              "      <th>Fare</th>\n",
              "    </tr>\n",
              "  </thead>\n",
              "  <tbody>\n",
              "    <tr>\n",
              "      <th>0</th>\n",
              "      <td>0</td>\n",
              "      <td>3</td>\n",
              "      <td>Mr. Owen Harris Braund</td>\n",
              "      <td>male</td>\n",
              "      <td>22.0</td>\n",
              "      <td>7.2500</td>\n",
              "    </tr>\n",
              "    <tr>\n",
              "      <th>1</th>\n",
              "      <td>1</td>\n",
              "      <td>1</td>\n",
              "      <td>Mrs. John Bradley (Florence Briggs Thayer) Cum...</td>\n",
              "      <td>female</td>\n",
              "      <td>38.0</td>\n",
              "      <td>71.2833</td>\n",
              "    </tr>\n",
              "    <tr>\n",
              "      <th>2</th>\n",
              "      <td>1</td>\n",
              "      <td>3</td>\n",
              "      <td>Miss. Laina Heikkinen</td>\n",
              "      <td>female</td>\n",
              "      <td>26.0</td>\n",
              "      <td>7.9250</td>\n",
              "    </tr>\n",
              "    <tr>\n",
              "      <th>3</th>\n",
              "      <td>1</td>\n",
              "      <td>1</td>\n",
              "      <td>Mrs. Jacques Heath (Lily May Peel) Futrelle</td>\n",
              "      <td>female</td>\n",
              "      <td>35.0</td>\n",
              "      <td>53.1000</td>\n",
              "    </tr>\n",
              "    <tr>\n",
              "      <th>4</th>\n",
              "      <td>0</td>\n",
              "      <td>3</td>\n",
              "      <td>Mr. William Henry Allen</td>\n",
              "      <td>male</td>\n",
              "      <td>35.0</td>\n",
              "      <td>8.0500</td>\n",
              "    </tr>\n",
              "  </tbody>\n",
              "</table>\n",
              "</div>"
            ],
            "text/plain": [
              "   Survived  Pclass                                               Name  \\\n",
              "0         0       3                             Mr. Owen Harris Braund   \n",
              "1         1       1  Mrs. John Bradley (Florence Briggs Thayer) Cum...   \n",
              "2         1       3                              Miss. Laina Heikkinen   \n",
              "3         1       1        Mrs. Jacques Heath (Lily May Peel) Futrelle   \n",
              "4         0       3                            Mr. William Henry Allen   \n",
              "\n",
              "      Sex   Age     Fare  \n",
              "0    male  22.0   7.2500  \n",
              "1  female  38.0  71.2833  \n",
              "2  female  26.0   7.9250  \n",
              "3  female  35.0  53.1000  \n",
              "4    male  35.0   8.0500  "
            ]
          },
          "execution_count": 13,
          "metadata": {},
          "output_type": "execute_result"
        }
      ],
      "source": [
        "df.head()"
      ]
    },
    {
      "cell_type": "markdown",
      "metadata": {
        "id": "oAxFd81N8Wg0"
      },
      "source": [
        "## Sex"
      ]
    },
    {
      "cell_type": "code",
      "execution_count": 14,
      "metadata": {
        "colab": {
          "base_uri": "https://localhost:8080/",
          "height": 206
        },
        "id": "A1wcQ71M4wL8",
        "outputId": "81c7a302-1694-40b5-a920-0a951b24e578"
      },
      "outputs": [
        {
          "data": {
            "text/html": [
              "<div>\n",
              "<style scoped>\n",
              "    .dataframe tbody tr th:only-of-type {\n",
              "        vertical-align: middle;\n",
              "    }\n",
              "\n",
              "    .dataframe tbody tr th {\n",
              "        vertical-align: top;\n",
              "    }\n",
              "\n",
              "    .dataframe thead th {\n",
              "        text-align: right;\n",
              "    }\n",
              "</style>\n",
              "<table border=\"1\" class=\"dataframe\">\n",
              "  <thead>\n",
              "    <tr style=\"text-align: right;\">\n",
              "      <th></th>\n",
              "      <th>Sex_female</th>\n",
              "      <th>Sex_male</th>\n",
              "    </tr>\n",
              "  </thead>\n",
              "  <tbody>\n",
              "    <tr>\n",
              "      <th>0</th>\n",
              "      <td>False</td>\n",
              "      <td>True</td>\n",
              "    </tr>\n",
              "    <tr>\n",
              "      <th>1</th>\n",
              "      <td>True</td>\n",
              "      <td>False</td>\n",
              "    </tr>\n",
              "    <tr>\n",
              "      <th>2</th>\n",
              "      <td>True</td>\n",
              "      <td>False</td>\n",
              "    </tr>\n",
              "    <tr>\n",
              "      <th>3</th>\n",
              "      <td>True</td>\n",
              "      <td>False</td>\n",
              "    </tr>\n",
              "    <tr>\n",
              "      <th>4</th>\n",
              "      <td>False</td>\n",
              "      <td>True</td>\n",
              "    </tr>\n",
              "  </tbody>\n",
              "</table>\n",
              "</div>"
            ],
            "text/plain": [
              "   Sex_female  Sex_male\n",
              "0       False      True\n",
              "1        True     False\n",
              "2        True     False\n",
              "3        True     False\n",
              "4       False      True"
            ]
          },
          "execution_count": 14,
          "metadata": {},
          "output_type": "execute_result"
        }
      ],
      "source": [
        "pd.get_dummies(df[\"Sex\"], prefix=\"Sex\").head()"
      ]
    },
    {
      "cell_type": "code",
      "execution_count": 15,
      "metadata": {
        "colab": {
          "base_uri": "https://localhost:8080/",
          "height": 206
        },
        "id": "_xcrHNPM7_u9",
        "outputId": "deec1032-b1ff-4aed-d911-ab199b6fb3f6"
      },
      "outputs": [
        {
          "data": {
            "text/html": [
              "<div>\n",
              "<style scoped>\n",
              "    .dataframe tbody tr th:only-of-type {\n",
              "        vertical-align: middle;\n",
              "    }\n",
              "\n",
              "    .dataframe tbody tr th {\n",
              "        vertical-align: top;\n",
              "    }\n",
              "\n",
              "    .dataframe thead th {\n",
              "        text-align: right;\n",
              "    }\n",
              "</style>\n",
              "<table border=\"1\" class=\"dataframe\">\n",
              "  <thead>\n",
              "    <tr style=\"text-align: right;\">\n",
              "      <th></th>\n",
              "      <th>Sex_male</th>\n",
              "    </tr>\n",
              "  </thead>\n",
              "  <tbody>\n",
              "    <tr>\n",
              "      <th>0</th>\n",
              "      <td>True</td>\n",
              "    </tr>\n",
              "    <tr>\n",
              "      <th>1</th>\n",
              "      <td>False</td>\n",
              "    </tr>\n",
              "    <tr>\n",
              "      <th>2</th>\n",
              "      <td>False</td>\n",
              "    </tr>\n",
              "    <tr>\n",
              "      <th>3</th>\n",
              "      <td>False</td>\n",
              "    </tr>\n",
              "    <tr>\n",
              "      <th>4</th>\n",
              "      <td>True</td>\n",
              "    </tr>\n",
              "  </tbody>\n",
              "</table>\n",
              "</div>"
            ],
            "text/plain": [
              "   Sex_male\n",
              "0      True\n",
              "1     False\n",
              "2     False\n",
              "3     False\n",
              "4      True"
            ]
          },
          "execution_count": 15,
          "metadata": {},
          "output_type": "execute_result"
        }
      ],
      "source": [
        "# Нам достаточно только одной колонки для бинарной фичи (для N-нарной достаточно N-1 колонок)\n",
        "pd.get_dummies(df[\"Sex\"], prefix=\"Sex\", drop_first=True).head()"
      ]
    },
    {
      "cell_type": "code",
      "execution_count": 16,
      "metadata": {
        "id": "PiR2NA7s74nc"
      },
      "outputs": [],
      "source": [
        "df[\"Sex\"] = pd.get_dummies(df[\"Sex\"], drop_first=True)"
      ]
    },
    {
      "cell_type": "code",
      "execution_count": 17,
      "metadata": {
        "colab": {
          "base_uri": "https://localhost:8080/",
          "height": 206
        },
        "id": "VLQxu1hm8RW7",
        "outputId": "8b51d614-face-4ca7-8acd-772992e76216"
      },
      "outputs": [
        {
          "data": {
            "text/html": [
              "<div>\n",
              "<style scoped>\n",
              "    .dataframe tbody tr th:only-of-type {\n",
              "        vertical-align: middle;\n",
              "    }\n",
              "\n",
              "    .dataframe tbody tr th {\n",
              "        vertical-align: top;\n",
              "    }\n",
              "\n",
              "    .dataframe thead th {\n",
              "        text-align: right;\n",
              "    }\n",
              "</style>\n",
              "<table border=\"1\" class=\"dataframe\">\n",
              "  <thead>\n",
              "    <tr style=\"text-align: right;\">\n",
              "      <th></th>\n",
              "      <th>Survived</th>\n",
              "      <th>Pclass</th>\n",
              "      <th>Name</th>\n",
              "      <th>Sex</th>\n",
              "      <th>Age</th>\n",
              "      <th>Fare</th>\n",
              "    </tr>\n",
              "  </thead>\n",
              "  <tbody>\n",
              "    <tr>\n",
              "      <th>0</th>\n",
              "      <td>0</td>\n",
              "      <td>3</td>\n",
              "      <td>Mr. Owen Harris Braund</td>\n",
              "      <td>True</td>\n",
              "      <td>22.0</td>\n",
              "      <td>7.2500</td>\n",
              "    </tr>\n",
              "    <tr>\n",
              "      <th>1</th>\n",
              "      <td>1</td>\n",
              "      <td>1</td>\n",
              "      <td>Mrs. John Bradley (Florence Briggs Thayer) Cum...</td>\n",
              "      <td>False</td>\n",
              "      <td>38.0</td>\n",
              "      <td>71.2833</td>\n",
              "    </tr>\n",
              "    <tr>\n",
              "      <th>2</th>\n",
              "      <td>1</td>\n",
              "      <td>3</td>\n",
              "      <td>Miss. Laina Heikkinen</td>\n",
              "      <td>False</td>\n",
              "      <td>26.0</td>\n",
              "      <td>7.9250</td>\n",
              "    </tr>\n",
              "    <tr>\n",
              "      <th>3</th>\n",
              "      <td>1</td>\n",
              "      <td>1</td>\n",
              "      <td>Mrs. Jacques Heath (Lily May Peel) Futrelle</td>\n",
              "      <td>False</td>\n",
              "      <td>35.0</td>\n",
              "      <td>53.1000</td>\n",
              "    </tr>\n",
              "    <tr>\n",
              "      <th>4</th>\n",
              "      <td>0</td>\n",
              "      <td>3</td>\n",
              "      <td>Mr. William Henry Allen</td>\n",
              "      <td>True</td>\n",
              "      <td>35.0</td>\n",
              "      <td>8.0500</td>\n",
              "    </tr>\n",
              "  </tbody>\n",
              "</table>\n",
              "</div>"
            ],
            "text/plain": [
              "   Survived  Pclass                                               Name    Sex  \\\n",
              "0         0       3                             Mr. Owen Harris Braund   True   \n",
              "1         1       1  Mrs. John Bradley (Florence Briggs Thayer) Cum...  False   \n",
              "2         1       3                              Miss. Laina Heikkinen  False   \n",
              "3         1       1        Mrs. Jacques Heath (Lily May Peel) Futrelle  False   \n",
              "4         0       3                            Mr. William Henry Allen   True   \n",
              "\n",
              "    Age     Fare  \n",
              "0  22.0   7.2500  \n",
              "1  38.0  71.2833  \n",
              "2  26.0   7.9250  \n",
              "3  35.0  53.1000  \n",
              "4  35.0   8.0500  "
            ]
          },
          "execution_count": 17,
          "metadata": {},
          "output_type": "execute_result"
        }
      ],
      "source": [
        "df.head()"
      ]
    },
    {
      "cell_type": "markdown",
      "metadata": {
        "id": "QJ-R9yL_842V"
      },
      "source": [
        "## Name"
      ]
    },
    {
      "cell_type": "code",
      "execution_count": 18,
      "metadata": {
        "id": "R9je9UCR88V0"
      },
      "outputs": [
        {
          "data": {
            "text/html": [
              "<div>\n",
              "<style scoped>\n",
              "    .dataframe tbody tr th:only-of-type {\n",
              "        vertical-align: middle;\n",
              "    }\n",
              "\n",
              "    .dataframe tbody tr th {\n",
              "        vertical-align: top;\n",
              "    }\n",
              "\n",
              "    .dataframe thead th {\n",
              "        text-align: right;\n",
              "    }\n",
              "</style>\n",
              "<table border=\"1\" class=\"dataframe\">\n",
              "  <thead>\n",
              "    <tr style=\"text-align: right;\">\n",
              "      <th></th>\n",
              "      <th>Survived</th>\n",
              "      <th>Pclass</th>\n",
              "      <th>Name</th>\n",
              "      <th>Sex</th>\n",
              "      <th>Age</th>\n",
              "      <th>Fare</th>\n",
              "      <th>Name_len</th>\n",
              "    </tr>\n",
              "  </thead>\n",
              "  <tbody>\n",
              "    <tr>\n",
              "      <th>0</th>\n",
              "      <td>0</td>\n",
              "      <td>3</td>\n",
              "      <td>Mr. Owen Harris Braund</td>\n",
              "      <td>True</td>\n",
              "      <td>22.0</td>\n",
              "      <td>7.2500</td>\n",
              "      <td>22</td>\n",
              "    </tr>\n",
              "    <tr>\n",
              "      <th>1</th>\n",
              "      <td>1</td>\n",
              "      <td>1</td>\n",
              "      <td>Mrs. John Bradley (Florence Briggs Thayer) Cum...</td>\n",
              "      <td>False</td>\n",
              "      <td>38.0</td>\n",
              "      <td>71.2833</td>\n",
              "      <td>50</td>\n",
              "    </tr>\n",
              "    <tr>\n",
              "      <th>2</th>\n",
              "      <td>1</td>\n",
              "      <td>3</td>\n",
              "      <td>Miss. Laina Heikkinen</td>\n",
              "      <td>False</td>\n",
              "      <td>26.0</td>\n",
              "      <td>7.9250</td>\n",
              "      <td>21</td>\n",
              "    </tr>\n",
              "    <tr>\n",
              "      <th>3</th>\n",
              "      <td>1</td>\n",
              "      <td>1</td>\n",
              "      <td>Mrs. Jacques Heath (Lily May Peel) Futrelle</td>\n",
              "      <td>False</td>\n",
              "      <td>35.0</td>\n",
              "      <td>53.1000</td>\n",
              "      <td>43</td>\n",
              "    </tr>\n",
              "    <tr>\n",
              "      <th>4</th>\n",
              "      <td>0</td>\n",
              "      <td>3</td>\n",
              "      <td>Mr. William Henry Allen</td>\n",
              "      <td>True</td>\n",
              "      <td>35.0</td>\n",
              "      <td>8.0500</td>\n",
              "      <td>23</td>\n",
              "    </tr>\n",
              "    <tr>\n",
              "      <th>...</th>\n",
              "      <td>...</td>\n",
              "      <td>...</td>\n",
              "      <td>...</td>\n",
              "      <td>...</td>\n",
              "      <td>...</td>\n",
              "      <td>...</td>\n",
              "      <td>...</td>\n",
              "    </tr>\n",
              "    <tr>\n",
              "      <th>882</th>\n",
              "      <td>0</td>\n",
              "      <td>2</td>\n",
              "      <td>Rev. Juozas Montvila</td>\n",
              "      <td>True</td>\n",
              "      <td>27.0</td>\n",
              "      <td>13.0000</td>\n",
              "      <td>20</td>\n",
              "    </tr>\n",
              "    <tr>\n",
              "      <th>883</th>\n",
              "      <td>1</td>\n",
              "      <td>1</td>\n",
              "      <td>Miss. Margaret Edith Graham</td>\n",
              "      <td>False</td>\n",
              "      <td>19.0</td>\n",
              "      <td>30.0000</td>\n",
              "      <td>27</td>\n",
              "    </tr>\n",
              "    <tr>\n",
              "      <th>884</th>\n",
              "      <td>0</td>\n",
              "      <td>3</td>\n",
              "      <td>Miss. Catherine Helen Johnston</td>\n",
              "      <td>False</td>\n",
              "      <td>7.0</td>\n",
              "      <td>23.4500</td>\n",
              "      <td>30</td>\n",
              "    </tr>\n",
              "    <tr>\n",
              "      <th>885</th>\n",
              "      <td>1</td>\n",
              "      <td>1</td>\n",
              "      <td>Mr. Karl Howell Behr</td>\n",
              "      <td>True</td>\n",
              "      <td>26.0</td>\n",
              "      <td>30.0000</td>\n",
              "      <td>20</td>\n",
              "    </tr>\n",
              "    <tr>\n",
              "      <th>886</th>\n",
              "      <td>0</td>\n",
              "      <td>3</td>\n",
              "      <td>Mr. Patrick Dooley</td>\n",
              "      <td>True</td>\n",
              "      <td>32.0</td>\n",
              "      <td>7.7500</td>\n",
              "      <td>18</td>\n",
              "    </tr>\n",
              "  </tbody>\n",
              "</table>\n",
              "<p>887 rows × 7 columns</p>\n",
              "</div>"
            ],
            "text/plain": [
              "     Survived  Pclass                                               Name  \\\n",
              "0           0       3                             Mr. Owen Harris Braund   \n",
              "1           1       1  Mrs. John Bradley (Florence Briggs Thayer) Cum...   \n",
              "2           1       3                              Miss. Laina Heikkinen   \n",
              "3           1       1        Mrs. Jacques Heath (Lily May Peel) Futrelle   \n",
              "4           0       3                            Mr. William Henry Allen   \n",
              "..        ...     ...                                                ...   \n",
              "882         0       2                               Rev. Juozas Montvila   \n",
              "883         1       1                        Miss. Margaret Edith Graham   \n",
              "884         0       3                     Miss. Catherine Helen Johnston   \n",
              "885         1       1                               Mr. Karl Howell Behr   \n",
              "886         0       3                                 Mr. Patrick Dooley   \n",
              "\n",
              "       Sex   Age     Fare  Name_len  \n",
              "0     True  22.0   7.2500        22  \n",
              "1    False  38.0  71.2833        50  \n",
              "2    False  26.0   7.9250        21  \n",
              "3    False  35.0  53.1000        43  \n",
              "4     True  35.0   8.0500        23  \n",
              "..     ...   ...      ...       ...  \n",
              "882   True  27.0  13.0000        20  \n",
              "883  False  19.0  30.0000        27  \n",
              "884  False   7.0  23.4500        30  \n",
              "885   True  26.0  30.0000        20  \n",
              "886   True  32.0   7.7500        18  \n",
              "\n",
              "[887 rows x 7 columns]"
            ]
          },
          "execution_count": 18,
          "metadata": {},
          "output_type": "execute_result"
        }
      ],
      "source": [
        "# посчитаем самое простое - длину имени\n",
        "df[\"Name_len\"] = df[\"Name\"].str.len()\n",
        "df"
      ]
    },
    {
      "cell_type": "markdown",
      "metadata": {
        "id": "RPCLH5uDJmZ4"
      },
      "source": [
        "### Задание 6.1\n",
        "\n"
      ]
    },
    {
      "cell_type": "markdown",
      "metadata": {
        "id": "cDgIqOupKIhe"
      },
      "source": [
        "(**1 - 3 балла**) Добавьте еще новых фичей (по 1 за каждый балл, но не больше 3), добавьте их к обучению модели"
      ]
    },
    {
      "cell_type": "code",
      "execution_count": 19,
      "metadata": {},
      "outputs": [
        {
          "data": {
            "text/html": [
              "<div>\n",
              "<style scoped>\n",
              "    .dataframe tbody tr th:only-of-type {\n",
              "        vertical-align: middle;\n",
              "    }\n",
              "\n",
              "    .dataframe tbody tr th {\n",
              "        vertical-align: top;\n",
              "    }\n",
              "\n",
              "    .dataframe thead th {\n",
              "        text-align: right;\n",
              "    }\n",
              "</style>\n",
              "<table border=\"1\" class=\"dataframe\">\n",
              "  <thead>\n",
              "    <tr style=\"text-align: right;\">\n",
              "      <th></th>\n",
              "      <th>Survived</th>\n",
              "      <th>Pclass</th>\n",
              "      <th>Name</th>\n",
              "      <th>Sex</th>\n",
              "      <th>Age</th>\n",
              "      <th>Fare</th>\n",
              "      <th>Name_len</th>\n",
              "      <th>Miss</th>\n",
              "      <th>Mr</th>\n",
              "      <th>Mrs</th>\n",
              "    </tr>\n",
              "  </thead>\n",
              "  <tbody>\n",
              "    <tr>\n",
              "      <th>0</th>\n",
              "      <td>0</td>\n",
              "      <td>3</td>\n",
              "      <td>Mr. Owen Harris Braund</td>\n",
              "      <td>True</td>\n",
              "      <td>22.0</td>\n",
              "      <td>7.2500</td>\n",
              "      <td>22</td>\n",
              "      <td>0</td>\n",
              "      <td>1</td>\n",
              "      <td>0</td>\n",
              "    </tr>\n",
              "    <tr>\n",
              "      <th>1</th>\n",
              "      <td>1</td>\n",
              "      <td>1</td>\n",
              "      <td>Mrs. John Bradley (Florence Briggs Thayer) Cum...</td>\n",
              "      <td>False</td>\n",
              "      <td>38.0</td>\n",
              "      <td>71.2833</td>\n",
              "      <td>50</td>\n",
              "      <td>0</td>\n",
              "      <td>1</td>\n",
              "      <td>1</td>\n",
              "    </tr>\n",
              "    <tr>\n",
              "      <th>2</th>\n",
              "      <td>1</td>\n",
              "      <td>3</td>\n",
              "      <td>Miss. Laina Heikkinen</td>\n",
              "      <td>False</td>\n",
              "      <td>26.0</td>\n",
              "      <td>7.9250</td>\n",
              "      <td>21</td>\n",
              "      <td>1</td>\n",
              "      <td>0</td>\n",
              "      <td>0</td>\n",
              "    </tr>\n",
              "    <tr>\n",
              "      <th>3</th>\n",
              "      <td>1</td>\n",
              "      <td>1</td>\n",
              "      <td>Mrs. Jacques Heath (Lily May Peel) Futrelle</td>\n",
              "      <td>False</td>\n",
              "      <td>35.0</td>\n",
              "      <td>53.1000</td>\n",
              "      <td>43</td>\n",
              "      <td>0</td>\n",
              "      <td>1</td>\n",
              "      <td>1</td>\n",
              "    </tr>\n",
              "    <tr>\n",
              "      <th>4</th>\n",
              "      <td>0</td>\n",
              "      <td>3</td>\n",
              "      <td>Mr. William Henry Allen</td>\n",
              "      <td>True</td>\n",
              "      <td>35.0</td>\n",
              "      <td>8.0500</td>\n",
              "      <td>23</td>\n",
              "      <td>0</td>\n",
              "      <td>1</td>\n",
              "      <td>0</td>\n",
              "    </tr>\n",
              "    <tr>\n",
              "      <th>...</th>\n",
              "      <td>...</td>\n",
              "      <td>...</td>\n",
              "      <td>...</td>\n",
              "      <td>...</td>\n",
              "      <td>...</td>\n",
              "      <td>...</td>\n",
              "      <td>...</td>\n",
              "      <td>...</td>\n",
              "      <td>...</td>\n",
              "      <td>...</td>\n",
              "    </tr>\n",
              "    <tr>\n",
              "      <th>882</th>\n",
              "      <td>0</td>\n",
              "      <td>2</td>\n",
              "      <td>Rev. Juozas Montvila</td>\n",
              "      <td>True</td>\n",
              "      <td>27.0</td>\n",
              "      <td>13.0000</td>\n",
              "      <td>20</td>\n",
              "      <td>0</td>\n",
              "      <td>0</td>\n",
              "      <td>0</td>\n",
              "    </tr>\n",
              "    <tr>\n",
              "      <th>883</th>\n",
              "      <td>1</td>\n",
              "      <td>1</td>\n",
              "      <td>Miss. Margaret Edith Graham</td>\n",
              "      <td>False</td>\n",
              "      <td>19.0</td>\n",
              "      <td>30.0000</td>\n",
              "      <td>27</td>\n",
              "      <td>1</td>\n",
              "      <td>0</td>\n",
              "      <td>0</td>\n",
              "    </tr>\n",
              "    <tr>\n",
              "      <th>884</th>\n",
              "      <td>0</td>\n",
              "      <td>3</td>\n",
              "      <td>Miss. Catherine Helen Johnston</td>\n",
              "      <td>False</td>\n",
              "      <td>7.0</td>\n",
              "      <td>23.4500</td>\n",
              "      <td>30</td>\n",
              "      <td>1</td>\n",
              "      <td>0</td>\n",
              "      <td>0</td>\n",
              "    </tr>\n",
              "    <tr>\n",
              "      <th>885</th>\n",
              "      <td>1</td>\n",
              "      <td>1</td>\n",
              "      <td>Mr. Karl Howell Behr</td>\n",
              "      <td>True</td>\n",
              "      <td>26.0</td>\n",
              "      <td>30.0000</td>\n",
              "      <td>20</td>\n",
              "      <td>0</td>\n",
              "      <td>1</td>\n",
              "      <td>0</td>\n",
              "    </tr>\n",
              "    <tr>\n",
              "      <th>886</th>\n",
              "      <td>0</td>\n",
              "      <td>3</td>\n",
              "      <td>Mr. Patrick Dooley</td>\n",
              "      <td>True</td>\n",
              "      <td>32.0</td>\n",
              "      <td>7.7500</td>\n",
              "      <td>18</td>\n",
              "      <td>0</td>\n",
              "      <td>1</td>\n",
              "      <td>0</td>\n",
              "    </tr>\n",
              "  </tbody>\n",
              "</table>\n",
              "<p>887 rows × 10 columns</p>\n",
              "</div>"
            ],
            "text/plain": [
              "     Survived  Pclass                                               Name  \\\n",
              "0           0       3                             Mr. Owen Harris Braund   \n",
              "1           1       1  Mrs. John Bradley (Florence Briggs Thayer) Cum...   \n",
              "2           1       3                              Miss. Laina Heikkinen   \n",
              "3           1       1        Mrs. Jacques Heath (Lily May Peel) Futrelle   \n",
              "4           0       3                            Mr. William Henry Allen   \n",
              "..        ...     ...                                                ...   \n",
              "882         0       2                               Rev. Juozas Montvila   \n",
              "883         1       1                        Miss. Margaret Edith Graham   \n",
              "884         0       3                     Miss. Catherine Helen Johnston   \n",
              "885         1       1                               Mr. Karl Howell Behr   \n",
              "886         0       3                                 Mr. Patrick Dooley   \n",
              "\n",
              "       Sex   Age     Fare  Name_len  Miss  Mr  Mrs  \n",
              "0     True  22.0   7.2500        22     0   1    0  \n",
              "1    False  38.0  71.2833        50     0   1    1  \n",
              "2    False  26.0   7.9250        21     1   0    0  \n",
              "3    False  35.0  53.1000        43     0   1    1  \n",
              "4     True  35.0   8.0500        23     0   1    0  \n",
              "..     ...   ...      ...       ...   ...  ..  ...  \n",
              "882   True  27.0  13.0000        20     0   0    0  \n",
              "883  False  19.0  30.0000        27     1   0    0  \n",
              "884  False   7.0  23.4500        30     1   0    0  \n",
              "885   True  26.0  30.0000        20     0   1    0  \n",
              "886   True  32.0   7.7500        18     0   1    0  \n",
              "\n",
              "[887 rows x 10 columns]"
            ]
          },
          "execution_count": 19,
          "metadata": {},
          "output_type": "execute_result"
        }
      ],
      "source": [
        "df[\"Miss\"] = df[\"Name\"].str.contains(\"Miss\").astype(int)\n",
        "df[\"Mr\"] = df[\"Name\"].str.contains(\"Mr\").astype(int)\n",
        "df[\"Mrs\"] = df[\"Name\"].str.contains(\"Mrs\").astype(int)\n",
        "df"
      ]
    },
    {
      "cell_type": "markdown",
      "metadata": {
        "id": "IiJQrfhr9gsJ"
      },
      "source": [
        "# Разбиваем данные на train и test"
      ]
    },
    {
      "cell_type": "code",
      "execution_count": 3,
      "metadata": {},
      "outputs": [
        {
          "name": "stdout",
          "output_type": "stream",
          "text": [
            "Collecting scikit-learn\n",
            "  Obtaining dependency information for scikit-learn from https://files.pythonhosted.org/packages/f1/7d/2e562207176a5dcdad513085670674bb11ffaf37e1393eacb6d7fb502481/scikit_learn-1.3.1-cp311-cp311-win_amd64.whl.metadata\n",
            "  Downloading scikit_learn-1.3.1-cp311-cp311-win_amd64.whl.metadata (11 kB)\n",
            "Requirement already satisfied: numpy<2.0,>=1.17.3 in c:\\users\\acer\\appdata\\local\\programs\\python\\python311\\lib\\site-packages (from scikit-learn) (1.26.0)\n",
            "Collecting scipy>=1.5.0 (from scikit-learn)\n",
            "  Obtaining dependency information for scipy>=1.5.0 from https://files.pythonhosted.org/packages/81/d7/d2537d51efb692d0c411e64267ba349e7668d40f5bc73cefe78ccd650dcd/scipy-1.11.3-cp311-cp311-win_amd64.whl.metadata\n",
            "  Downloading scipy-1.11.3-cp311-cp311-win_amd64.whl.metadata (60 kB)\n",
            "     ---------------------------------------- 0.0/60.4 kB ? eta -:--:--\n",
            "     ------ --------------------------------- 10.2/60.4 kB ? eta -:--:--\n",
            "     ------ --------------------------------- 10.2/60.4 kB ? eta -:--:--\n",
            "     ------------------- ------------------ 30.7/60.4 kB 325.1 kB/s eta 0:00:01\n",
            "     -------------------------------------- 60.4/60.4 kB 401.3 kB/s eta 0:00:00\n",
            "Collecting joblib>=1.1.1 (from scikit-learn)\n",
            "  Obtaining dependency information for joblib>=1.1.1 from https://files.pythonhosted.org/packages/10/40/d551139c85db202f1f384ba8bcf96aca2f329440a844f924c8a0040b6d02/joblib-1.3.2-py3-none-any.whl.metadata\n",
            "  Downloading joblib-1.3.2-py3-none-any.whl.metadata (5.4 kB)\n",
            "Collecting threadpoolctl>=2.0.0 (from scikit-learn)\n",
            "  Obtaining dependency information for threadpoolctl>=2.0.0 from https://files.pythonhosted.org/packages/81/12/fd4dea011af9d69e1cad05c75f3f7202cdcbeac9b712eea58ca779a72865/threadpoolctl-3.2.0-py3-none-any.whl.metadata\n",
            "  Downloading threadpoolctl-3.2.0-py3-none-any.whl.metadata (10.0 kB)\n",
            "Downloading scikit_learn-1.3.1-cp311-cp311-win_amd64.whl (9.2 MB)\n",
            "   ---------------------------------------- 0.0/9.2 MB ? eta -:--:--\n",
            "   ---------------------------------------- 0.1/9.2 MB 1.7 MB/s eta 0:00:06\n",
            "   ---------------------------------------- 0.1/9.2 MB 1.2 MB/s eta 0:00:08\n",
            "    --------------------------------------- 0.1/9.2 MB 1.0 MB/s eta 0:00:09\n",
            "    --------------------------------------- 0.2/9.2 MB 1.2 MB/s eta 0:00:08\n",
            "    --------------------------------------- 0.2/9.2 MB 1.1 MB/s eta 0:00:08\n",
            "   - -------------------------------------- 0.3/9.2 MB 1.1 MB/s eta 0:00:08\n",
            "   - -------------------------------------- 0.3/9.2 MB 1.3 MB/s eta 0:00:07\n",
            "   - -------------------------------------- 0.4/9.2 MB 1.5 MB/s eta 0:00:07\n",
            "   - -------------------------------------- 0.4/9.2 MB 1.4 MB/s eta 0:00:07\n",
            "   -- ------------------------------------- 0.5/9.2 MB 1.4 MB/s eta 0:00:07\n",
            "   -- ------------------------------------- 0.6/9.2 MB 1.4 MB/s eta 0:00:07\n",
            "   -- ------------------------------------- 0.6/9.2 MB 1.4 MB/s eta 0:00:07\n",
            "   --- ------------------------------------ 0.7/9.2 MB 1.5 MB/s eta 0:00:06\n",
            "   --- ------------------------------------ 0.8/9.2 MB 1.5 MB/s eta 0:00:06\n",
            "   --- ------------------------------------ 0.8/9.2 MB 1.6 MB/s eta 0:00:06\n",
            "   --- ------------------------------------ 0.8/9.2 MB 1.4 MB/s eta 0:00:06\n",
            "   --- ------------------------------------ 0.9/9.2 MB 1.4 MB/s eta 0:00:06\n",
            "   --- ------------------------------------ 0.9/9.2 MB 1.4 MB/s eta 0:00:06\n",
            "   ---- ----------------------------------- 0.9/9.2 MB 1.3 MB/s eta 0:00:07\n",
            "   ---- ----------------------------------- 1.1/9.2 MB 1.5 MB/s eta 0:00:06\n",
            "   ----- ---------------------------------- 1.2/9.2 MB 1.5 MB/s eta 0:00:06\n",
            "   ----- ---------------------------------- 1.2/9.2 MB 1.5 MB/s eta 0:00:06\n",
            "   ----- ---------------------------------- 1.3/9.2 MB 1.5 MB/s eta 0:00:06\n",
            "   ----- ---------------------------------- 1.3/9.2 MB 1.5 MB/s eta 0:00:06\n",
            "   ----- ---------------------------------- 1.4/9.2 MB 1.5 MB/s eta 0:00:06\n",
            "   ------ --------------------------------- 1.4/9.2 MB 1.5 MB/s eta 0:00:06\n",
            "   ------ --------------------------------- 1.5/9.2 MB 1.5 MB/s eta 0:00:06\n",
            "   ------ --------------------------------- 1.6/9.2 MB 1.6 MB/s eta 0:00:05\n",
            "   ------- -------------------------------- 1.7/9.2 MB 1.6 MB/s eta 0:00:05\n",
            "   ------- -------------------------------- 1.8/9.2 MB 1.7 MB/s eta 0:00:05\n",
            "   -------- ------------------------------- 1.9/9.2 MB 1.7 MB/s eta 0:00:05\n",
            "   -------- ------------------------------- 2.0/9.2 MB 1.7 MB/s eta 0:00:05\n",
            "   -------- ------------------------------- 2.0/9.2 MB 1.7 MB/s eta 0:00:05\n",
            "   -------- ------------------------------- 2.0/9.2 MB 1.6 MB/s eta 0:00:05\n",
            "   -------- ------------------------------- 2.0/9.2 MB 1.6 MB/s eta 0:00:05\n",
            "   -------- ------------------------------- 2.0/9.2 MB 1.6 MB/s eta 0:00:05\n",
            "   -------- ------------------------------- 2.0/9.2 MB 1.6 MB/s eta 0:00:05\n",
            "   -------- ------------------------------- 2.0/9.2 MB 1.6 MB/s eta 0:00:05\n",
            "   -------- ------------------------------- 2.1/9.2 MB 1.4 MB/s eta 0:00:05\n",
            "   -------- ------------------------------- 2.1/9.2 MB 1.4 MB/s eta 0:00:05\n",
            "   -------- ------------------------------- 2.1/9.2 MB 1.4 MB/s eta 0:00:05\n",
            "   -------- ------------------------------- 2.1/9.2 MB 1.4 MB/s eta 0:00:05\n",
            "   -------- ------------------------------- 2.1/9.2 MB 1.4 MB/s eta 0:00:05\n",
            "   ---------- ----------------------------- 2.3/9.2 MB 1.5 MB/s eta 0:00:05\n",
            "   ---------- ----------------------------- 2.5/9.2 MB 1.5 MB/s eta 0:00:05\n",
            "   ----------- ---------------------------- 2.5/9.2 MB 1.5 MB/s eta 0:00:05\n",
            "   ----------- ---------------------------- 2.6/9.2 MB 1.5 MB/s eta 0:00:05\n",
            "   ----------- ---------------------------- 2.6/9.2 MB 1.5 MB/s eta 0:00:05\n",
            "   ------------ --------------------------- 2.8/9.2 MB 1.5 MB/s eta 0:00:05\n",
            "   ------------ --------------------------- 2.9/9.2 MB 1.6 MB/s eta 0:00:05\n",
            "   ------------ --------------------------- 2.9/9.2 MB 1.6 MB/s eta 0:00:05\n",
            "   ------------ --------------------------- 2.9/9.2 MB 1.6 MB/s eta 0:00:05\n",
            "   ------------ --------------------------- 2.9/9.2 MB 1.6 MB/s eta 0:00:05\n",
            "   ------------ --------------------------- 2.9/9.2 MB 1.5 MB/s eta 0:00:05\n",
            "   ------------- -------------------------- 3.0/9.2 MB 1.5 MB/s eta 0:00:05\n",
            "   ------------- -------------------------- 3.1/9.2 MB 1.5 MB/s eta 0:00:04\n",
            "   ------------- -------------------------- 3.2/9.2 MB 1.5 MB/s eta 0:00:04\n",
            "   -------------- ------------------------- 3.4/9.2 MB 1.6 MB/s eta 0:00:04\n",
            "   -------------- ------------------------- 3.4/9.2 MB 1.6 MB/s eta 0:00:04\n",
            "   --------------- ------------------------ 3.5/9.2 MB 1.6 MB/s eta 0:00:04\n",
            "   --------------- ------------------------ 3.6/9.2 MB 1.6 MB/s eta 0:00:04\n",
            "   ---------------- ----------------------- 3.7/9.2 MB 1.6 MB/s eta 0:00:04\n",
            "   ---------------- ----------------------- 3.8/9.2 MB 1.7 MB/s eta 0:00:04\n",
            "   ----------------- ---------------------- 4.0/9.2 MB 1.7 MB/s eta 0:00:04\n",
            "   ----------------- ---------------------- 4.0/9.2 MB 1.7 MB/s eta 0:00:04\n",
            "   ----------------- ---------------------- 4.1/9.2 MB 1.7 MB/s eta 0:00:03\n",
            "   ------------------ --------------------- 4.3/9.2 MB 1.7 MB/s eta 0:00:03\n",
            "   ------------------ --------------------- 4.3/9.2 MB 1.7 MB/s eta 0:00:03\n",
            "   ------------------- -------------------- 4.5/9.2 MB 1.8 MB/s eta 0:00:03\n",
            "   ------------------- -------------------- 4.5/9.2 MB 1.8 MB/s eta 0:00:03\n",
            "   -------------------- ------------------- 4.6/9.2 MB 1.8 MB/s eta 0:00:03\n",
            "   -------------------- ------------------- 4.7/9.2 MB 1.8 MB/s eta 0:00:03\n",
            "   --------------------- ------------------ 4.9/9.2 MB 1.8 MB/s eta 0:00:03\n",
            "   --------------------- ------------------ 4.9/9.2 MB 1.8 MB/s eta 0:00:03\n",
            "   ---------------------- ----------------- 5.1/9.2 MB 1.9 MB/s eta 0:00:03\n",
            "   ---------------------- ----------------- 5.2/9.2 MB 1.9 MB/s eta 0:00:03\n",
            "   ---------------------- ----------------- 5.3/9.2 MB 1.9 MB/s eta 0:00:03\n",
            "   ----------------------- ---------------- 5.4/9.2 MB 1.9 MB/s eta 0:00:03\n",
            "   ----------------------- ---------------- 5.5/9.2 MB 1.9 MB/s eta 0:00:02\n",
            "   ------------------------ --------------- 5.6/9.2 MB 1.9 MB/s eta 0:00:02\n",
            "   ------------------------ --------------- 5.7/9.2 MB 1.9 MB/s eta 0:00:02\n",
            "   ------------------------- -------------- 5.8/9.2 MB 1.9 MB/s eta 0:00:02\n",
            "   ------------------------- -------------- 5.8/9.2 MB 1.9 MB/s eta 0:00:02\n",
            "   ------------------------- -------------- 5.9/9.2 MB 1.9 MB/s eta 0:00:02\n",
            "   ------------------------- -------------- 5.9/9.2 MB 1.9 MB/s eta 0:00:02\n",
            "   ------------------------- -------------- 5.9/9.2 MB 1.9 MB/s eta 0:00:02\n",
            "   ------------------------- -------------- 5.9/9.2 MB 1.9 MB/s eta 0:00:02\n",
            "   ------------------------- -------------- 5.9/9.2 MB 1.8 MB/s eta 0:00:02\n",
            "   ------------------------- -------------- 5.9/9.2 MB 1.8 MB/s eta 0:00:02\n",
            "   ------------------------- -------------- 5.9/9.2 MB 1.8 MB/s eta 0:00:02\n",
            "   ------------------------- -------------- 5.9/9.2 MB 1.8 MB/s eta 0:00:02\n",
            "   ------------------------- -------------- 5.9/9.2 MB 1.8 MB/s eta 0:00:02\n",
            "   --------------------------- ------------ 6.2/9.2 MB 1.8 MB/s eta 0:00:02\n",
            "   --------------------------- ------------ 6.3/9.2 MB 1.8 MB/s eta 0:00:02\n",
            "   --------------------------- ------------ 6.4/9.2 MB 1.8 MB/s eta 0:00:02\n",
            "   --------------------------- ------------ 6.4/9.2 MB 1.8 MB/s eta 0:00:02\n",
            "   ---------------------------- ----------- 6.5/9.2 MB 1.8 MB/s eta 0:00:02\n",
            "   ---------------------------- ----------- 6.5/9.2 MB 1.8 MB/s eta 0:00:02\n",
            "   ----------------------------- ---------- 6.7/9.2 MB 1.8 MB/s eta 0:00:02\n",
            "   ----------------------------- ---------- 6.7/9.2 MB 1.8 MB/s eta 0:00:02\n",
            "   ----------------------------- ---------- 6.8/9.2 MB 1.8 MB/s eta 0:00:02\n",
            "   ----------------------------- ---------- 6.8/9.2 MB 1.8 MB/s eta 0:00:02\n",
            "   ------------------------------ --------- 6.9/9.2 MB 1.8 MB/s eta 0:00:02\n",
            "   ------------------------------ --------- 7.0/9.2 MB 1.8 MB/s eta 0:00:02\n",
            "   ------------------------------ --------- 7.1/9.2 MB 1.8 MB/s eta 0:00:02\n",
            "   ------------------------------- -------- 7.2/9.2 MB 1.9 MB/s eta 0:00:02\n",
            "   ------------------------------- -------- 7.3/9.2 MB 1.9 MB/s eta 0:00:02\n",
            "   -------------------------------- ------- 7.4/9.2 MB 1.9 MB/s eta 0:00:01\n",
            "   -------------------------------- ------- 7.5/9.2 MB 1.9 MB/s eta 0:00:01\n",
            "   -------------------------------- ------- 7.6/9.2 MB 1.9 MB/s eta 0:00:01\n",
            "   --------------------------------- ------ 7.7/9.2 MB 1.9 MB/s eta 0:00:01\n",
            "   --------------------------------- ------ 7.8/9.2 MB 1.9 MB/s eta 0:00:01\n",
            "   --------------------------------- ------ 7.8/9.2 MB 1.9 MB/s eta 0:00:01\n",
            "   --------------------------------- ------ 7.8/9.2 MB 1.9 MB/s eta 0:00:01\n",
            "   ---------------------------------- ----- 8.0/9.2 MB 1.9 MB/s eta 0:00:01\n",
            "   ---------------------------------- ----- 8.0/9.2 MB 1.9 MB/s eta 0:00:01\n",
            "   ---------------------------------- ----- 8.0/9.2 MB 1.9 MB/s eta 0:00:01\n",
            "   ----------------------------------- ---- 8.1/9.2 MB 1.9 MB/s eta 0:00:01\n",
            "   ----------------------------------- ---- 8.1/9.2 MB 1.9 MB/s eta 0:00:01\n",
            "   ----------------------------------- ---- 8.2/9.2 MB 1.9 MB/s eta 0:00:01\n",
            "   ------------------------------------ --- 8.4/9.2 MB 1.9 MB/s eta 0:00:01\n",
            "   ------------------------------------ --- 8.5/9.2 MB 1.9 MB/s eta 0:00:01\n",
            "   ------------------------------------- -- 8.6/9.2 MB 1.9 MB/s eta 0:00:01\n",
            "   ------------------------------------- -- 8.7/9.2 MB 1.9 MB/s eta 0:00:01\n",
            "   -------------------------------------- - 8.8/9.2 MB 1.9 MB/s eta 0:00:01\n",
            "   -------------------------------------- - 8.9/9.2 MB 1.9 MB/s eta 0:00:01\n",
            "   ---------------------------------------  9.1/9.2 MB 1.9 MB/s eta 0:00:01\n",
            "   ---------------------------------------  9.2/9.2 MB 2.0 MB/s eta 0:00:01\n",
            "   ---------------------------------------  9.2/9.2 MB 2.0 MB/s eta 0:00:01\n",
            "   ---------------------------------------- 9.2/9.2 MB 1.9 MB/s eta 0:00:00\n",
            "Downloading joblib-1.3.2-py3-none-any.whl (302 kB)\n",
            "   ---------------------------------------- 0.0/302.2 kB ? eta -:--:--\n",
            "   ---------------- ----------------------- 122.9/302.2 kB 3.6 MB/s eta 0:00:01\n",
            "   -------------------------------- ------- 245.8/302.2 kB 3.8 MB/s eta 0:00:01\n",
            "   ---------------------------------------  297.0/302.2 kB 3.1 MB/s eta 0:00:01\n",
            "   ---------------------------------------- 302.2/302.2 kB 2.7 MB/s eta 0:00:00\n",
            "Downloading scipy-1.11.3-cp311-cp311-win_amd64.whl (44.1 MB)\n",
            "   ---------------------------------------- 0.0/44.1 MB ? eta -:--:--\n",
            "   ---------------------------------------- 0.2/44.1 MB 5.0 MB/s eta 0:00:09\n",
            "   ---------------------------------------- 0.2/44.1 MB 3.7 MB/s eta 0:00:12\n",
            "   ---------------------------------------- 0.4/44.1 MB 3.3 MB/s eta 0:00:14\n",
            "   ---------------------------------------- 0.5/44.1 MB 3.4 MB/s eta 0:00:13\n",
            "    --------------------------------------- 0.6/44.1 MB 3.0 MB/s eta 0:00:15\n",
            "    --------------------------------------- 0.7/44.1 MB 3.2 MB/s eta 0:00:14\n",
            "    --------------------------------------- 0.7/44.1 MB 2.9 MB/s eta 0:00:16\n",
            "    --------------------------------------- 0.8/44.1 MB 2.7 MB/s eta 0:00:17\n",
            "    --------------------------------------- 0.9/44.1 MB 2.8 MB/s eta 0:00:16\n",
            "    --------------------------------------- 1.0/44.1 MB 2.9 MB/s eta 0:00:15\n",
            "   - -------------------------------------- 1.1/44.1 MB 2.9 MB/s eta 0:00:16\n",
            "   - -------------------------------------- 1.2/44.1 MB 2.8 MB/s eta 0:00:16\n",
            "   - -------------------------------------- 1.4/44.1 MB 2.9 MB/s eta 0:00:15\n",
            "   - -------------------------------------- 1.4/44.1 MB 2.7 MB/s eta 0:00:16\n",
            "   - -------------------------------------- 1.5/44.1 MB 2.7 MB/s eta 0:00:16\n",
            "   - -------------------------------------- 1.6/44.1 MB 2.8 MB/s eta 0:00:16\n",
            "   - -------------------------------------- 1.7/44.1 MB 2.8 MB/s eta 0:00:16\n",
            "   - -------------------------------------- 1.8/44.1 MB 2.8 MB/s eta 0:00:16\n",
            "   - -------------------------------------- 2.0/44.1 MB 2.9 MB/s eta 0:00:15\n",
            "   - -------------------------------------- 2.1/44.1 MB 2.8 MB/s eta 0:00:16\n",
            "   - -------------------------------------- 2.2/44.1 MB 2.8 MB/s eta 0:00:15\n",
            "   -- ------------------------------------- 2.3/44.1 MB 2.8 MB/s eta 0:00:15\n",
            "   -- ------------------------------------- 2.4/44.1 MB 2.8 MB/s eta 0:00:15\n",
            "   -- ------------------------------------- 2.5/44.1 MB 2.9 MB/s eta 0:00:15\n",
            "   -- ------------------------------------- 2.6/44.1 MB 2.9 MB/s eta 0:00:15\n",
            "   -- ------------------------------------- 2.7/44.1 MB 2.9 MB/s eta 0:00:15\n",
            "   -- ------------------------------------- 2.8/44.1 MB 2.9 MB/s eta 0:00:15\n",
            "   -- ------------------------------------- 2.8/44.1 MB 2.8 MB/s eta 0:00:15\n",
            "   -- ------------------------------------- 2.9/44.1 MB 2.7 MB/s eta 0:00:16\n",
            "   -- ------------------------------------- 2.9/44.1 MB 2.7 MB/s eta 0:00:16\n",
            "   -- ------------------------------------- 3.0/44.1 MB 2.6 MB/s eta 0:00:16\n",
            "   -- ------------------------------------- 3.0/44.1 MB 2.6 MB/s eta 0:00:16\n",
            "   -- ------------------------------------- 3.0/44.1 MB 2.5 MB/s eta 0:00:17\n",
            "   -- ------------------------------------- 3.1/44.1 MB 2.5 MB/s eta 0:00:17\n",
            "   -- ------------------------------------- 3.1/44.1 MB 2.4 MB/s eta 0:00:17\n",
            "   -- ------------------------------------- 3.1/44.1 MB 2.4 MB/s eta 0:00:18\n",
            "   -- ------------------------------------- 3.1/44.1 MB 2.3 MB/s eta 0:00:18\n",
            "   -- ------------------------------------- 3.1/44.1 MB 2.3 MB/s eta 0:00:19\n",
            "   -- ------------------------------------- 3.1/44.1 MB 2.3 MB/s eta 0:00:19\n",
            "   -- ------------------------------------- 3.1/44.1 MB 2.3 MB/s eta 0:00:19\n",
            "   -- ------------------------------------- 3.1/44.1 MB 2.3 MB/s eta 0:00:19\n",
            "   -- ------------------------------------- 3.1/44.1 MB 2.3 MB/s eta 0:00:19\n",
            "   -- ------------------------------------- 3.1/44.1 MB 2.3 MB/s eta 0:00:19\n",
            "   -- ------------------------------------- 3.1/44.1 MB 2.3 MB/s eta 0:00:19\n",
            "   -- ------------------------------------- 3.1/44.1 MB 2.3 MB/s eta 0:00:19\n",
            "   -- ------------------------------------- 3.1/44.1 MB 2.3 MB/s eta 0:00:19\n",
            "   -- ------------------------------------- 3.1/44.1 MB 2.3 MB/s eta 0:00:19\n",
            "   -- ------------------------------------- 3.1/44.1 MB 2.3 MB/s eta 0:00:19\n",
            "   --- ------------------------------------ 3.4/44.1 MB 1.9 MB/s eta 0:00:22\n",
            "   --- ------------------------------------ 3.4/44.1 MB 1.9 MB/s eta 0:00:22\n",
            "   --- ------------------------------------ 3.6/44.1 MB 1.9 MB/s eta 0:00:22\n",
            "   --- ------------------------------------ 3.6/44.1 MB 1.9 MB/s eta 0:00:22\n",
            "   --- ------------------------------------ 3.6/44.1 MB 1.9 MB/s eta 0:00:22\n",
            "   --- ------------------------------------ 3.7/44.1 MB 1.9 MB/s eta 0:00:22\n",
            "   --- ------------------------------------ 3.7/44.1 MB 1.9 MB/s eta 0:00:22\n",
            "   --- ------------------------------------ 3.7/44.1 MB 1.9 MB/s eta 0:00:22\n",
            "   --- ------------------------------------ 3.8/44.1 MB 1.8 MB/s eta 0:00:22\n",
            "   --- ------------------------------------ 3.8/44.1 MB 1.8 MB/s eta 0:00:22\n",
            "   --- ------------------------------------ 3.8/44.1 MB 1.8 MB/s eta 0:00:23\n",
            "   --- ------------------------------------ 3.8/44.1 MB 1.8 MB/s eta 0:00:23\n",
            "   --- ------------------------------------ 4.0/44.1 MB 1.8 MB/s eta 0:00:23\n",
            "   --- ------------------------------------ 4.0/44.1 MB 1.8 MB/s eta 0:00:23\n",
            "   --- ------------------------------------ 4.0/44.1 MB 1.7 MB/s eta 0:00:24\n",
            "   --- ------------------------------------ 4.1/44.1 MB 1.7 MB/s eta 0:00:24\n",
            "   --- ------------------------------------ 4.1/44.1 MB 1.7 MB/s eta 0:00:23\n",
            "   --- ------------------------------------ 4.2/44.1 MB 1.7 MB/s eta 0:00:23\n",
            "   --- ------------------------------------ 4.3/44.1 MB 1.8 MB/s eta 0:00:23\n",
            "   --- ------------------------------------ 4.4/44.1 MB 1.8 MB/s eta 0:00:23\n",
            "   ---- ----------------------------------- 4.5/44.1 MB 1.8 MB/s eta 0:00:23\n",
            "   ---- ----------------------------------- 4.5/44.1 MB 1.8 MB/s eta 0:00:23\n",
            "   ---- ----------------------------------- 4.7/44.1 MB 1.8 MB/s eta 0:00:22\n",
            "   ---- ----------------------------------- 4.7/44.1 MB 1.8 MB/s eta 0:00:22\n",
            "   ---- ----------------------------------- 4.8/44.1 MB 1.8 MB/s eta 0:00:22\n",
            "   ---- ----------------------------------- 4.9/44.1 MB 1.8 MB/s eta 0:00:22\n",
            "   ---- ----------------------------------- 5.0/44.1 MB 1.8 MB/s eta 0:00:22\n",
            "   ---- ----------------------------------- 5.1/44.1 MB 1.9 MB/s eta 0:00:22\n",
            "   ---- ----------------------------------- 5.2/44.1 MB 1.9 MB/s eta 0:00:21\n",
            "   ---- ----------------------------------- 5.3/44.1 MB 1.9 MB/s eta 0:00:21\n",
            "   ---- ----------------------------------- 5.4/44.1 MB 1.9 MB/s eta 0:00:21\n",
            "   ----- ---------------------------------- 5.5/44.1 MB 1.9 MB/s eta 0:00:21\n",
            "   ----- ---------------------------------- 5.6/44.1 MB 1.9 MB/s eta 0:00:21\n",
            "   ----- ---------------------------------- 5.7/44.1 MB 1.9 MB/s eta 0:00:21\n",
            "   ----- ---------------------------------- 5.8/44.1 MB 1.9 MB/s eta 0:00:20\n",
            "   ----- ---------------------------------- 5.9/44.1 MB 1.9 MB/s eta 0:00:20\n",
            "   ----- ---------------------------------- 6.0/44.1 MB 1.9 MB/s eta 0:00:20\n",
            "   ----- ---------------------------------- 6.1/44.1 MB 1.9 MB/s eta 0:00:20\n",
            "   ----- ---------------------------------- 6.2/44.1 MB 1.9 MB/s eta 0:00:20\n",
            "   ----- ---------------------------------- 6.2/44.1 MB 1.9 MB/s eta 0:00:20\n",
            "   ----- ---------------------------------- 6.4/44.1 MB 2.0 MB/s eta 0:00:20\n",
            "   ----- ---------------------------------- 6.5/44.1 MB 2.0 MB/s eta 0:00:20\n",
            "   ----- ---------------------------------- 6.6/44.1 MB 2.0 MB/s eta 0:00:19\n",
            "   ------ --------------------------------- 6.6/44.1 MB 2.0 MB/s eta 0:00:19\n",
            "   ------ --------------------------------- 6.7/44.1 MB 2.0 MB/s eta 0:00:19\n",
            "   ------ --------------------------------- 6.8/44.1 MB 2.0 MB/s eta 0:00:19\n",
            "   ------ --------------------------------- 6.9/44.1 MB 2.0 MB/s eta 0:00:19\n",
            "   ------ --------------------------------- 7.1/44.1 MB 2.0 MB/s eta 0:00:19\n",
            "   ------ --------------------------------- 7.1/44.1 MB 2.0 MB/s eta 0:00:19\n",
            "   ------ --------------------------------- 7.2/44.1 MB 2.0 MB/s eta 0:00:19\n",
            "   ------ --------------------------------- 7.3/44.1 MB 2.0 MB/s eta 0:00:19\n",
            "   ------ --------------------------------- 7.4/44.1 MB 2.0 MB/s eta 0:00:19\n",
            "   ------ --------------------------------- 7.5/44.1 MB 2.0 MB/s eta 0:00:18\n",
            "   ------ --------------------------------- 7.6/44.1 MB 2.1 MB/s eta 0:00:18\n",
            "   ------- -------------------------------- 7.7/44.1 MB 2.1 MB/s eta 0:00:18\n",
            "   ------- -------------------------------- 7.8/44.1 MB 2.1 MB/s eta 0:00:18\n",
            "   ------- -------------------------------- 7.9/44.1 MB 2.1 MB/s eta 0:00:18\n",
            "   ------- -------------------------------- 8.0/44.1 MB 2.1 MB/s eta 0:00:18\n",
            "   ------- -------------------------------- 8.1/44.1 MB 2.1 MB/s eta 0:00:18\n",
            "   ------- -------------------------------- 8.3/44.1 MB 2.1 MB/s eta 0:00:18\n",
            "   ------- -------------------------------- 8.4/44.1 MB 2.1 MB/s eta 0:00:18\n",
            "   ------- -------------------------------- 8.5/44.1 MB 2.1 MB/s eta 0:00:17\n",
            "   ------- -------------------------------- 8.6/44.1 MB 2.1 MB/s eta 0:00:17\n",
            "   ------- -------------------------------- 8.7/44.1 MB 2.1 MB/s eta 0:00:17\n",
            "   ------- -------------------------------- 8.7/44.1 MB 2.1 MB/s eta 0:00:17\n",
            "   -------- ------------------------------- 8.8/44.1 MB 2.1 MB/s eta 0:00:17\n",
            "   -------- ------------------------------- 9.0/44.1 MB 2.1 MB/s eta 0:00:17\n",
            "   -------- ------------------------------- 9.0/44.1 MB 2.1 MB/s eta 0:00:17\n",
            "   -------- ------------------------------- 9.1/44.1 MB 2.1 MB/s eta 0:00:17\n",
            "   -------- ------------------------------- 9.1/44.1 MB 2.1 MB/s eta 0:00:17\n",
            "   -------- ------------------------------- 9.3/44.1 MB 2.1 MB/s eta 0:00:17\n",
            "   -------- ------------------------------- 9.3/44.1 MB 2.1 MB/s eta 0:00:17\n",
            "   -------- ------------------------------- 9.4/44.1 MB 2.1 MB/s eta 0:00:17\n",
            "   -------- ------------------------------- 9.4/44.1 MB 2.1 MB/s eta 0:00:17\n",
            "   -------- ------------------------------- 9.5/44.1 MB 2.1 MB/s eta 0:00:17\n",
            "   -------- ------------------------------- 9.7/44.1 MB 2.1 MB/s eta 0:00:17\n",
            "   -------- ------------------------------- 9.7/44.1 MB 2.1 MB/s eta 0:00:17\n",
            "   -------- ------------------------------- 9.7/44.1 MB 2.1 MB/s eta 0:00:17\n",
            "   -------- ------------------------------- 9.9/44.1 MB 2.1 MB/s eta 0:00:17\n",
            "   -------- ------------------------------- 9.9/44.1 MB 2.1 MB/s eta 0:00:17\n",
            "   -------- ------------------------------- 9.9/44.1 MB 2.1 MB/s eta 0:00:17\n",
            "   --------- ------------------------------ 10.1/44.1 MB 2.1 MB/s eta 0:00:17\n",
            "   --------- ------------------------------ 10.1/44.1 MB 2.1 MB/s eta 0:00:17\n",
            "   --------- ------------------------------ 10.2/44.1 MB 2.1 MB/s eta 0:00:16\n",
            "   --------- ------------------------------ 10.3/44.1 MB 2.1 MB/s eta 0:00:16\n",
            "   --------- ------------------------------ 10.4/44.1 MB 2.1 MB/s eta 0:00:16\n",
            "   --------- ------------------------------ 10.5/44.1 MB 2.1 MB/s eta 0:00:16\n",
            "   --------- ------------------------------ 10.6/44.1 MB 2.1 MB/s eta 0:00:16\n",
            "   --------- ------------------------------ 10.7/44.1 MB 2.1 MB/s eta 0:00:16\n",
            "   --------- ------------------------------ 10.9/44.1 MB 2.1 MB/s eta 0:00:16\n",
            "   --------- ------------------------------ 10.9/44.1 MB 2.1 MB/s eta 0:00:16\n",
            "   ---------- ----------------------------- 11.0/44.1 MB 2.1 MB/s eta 0:00:16\n",
            "   ---------- ----------------------------- 11.2/44.1 MB 2.1 MB/s eta 0:00:16\n",
            "   ---------- ----------------------------- 11.3/44.1 MB 2.1 MB/s eta 0:00:16\n",
            "   ---------- ----------------------------- 11.3/44.1 MB 2.1 MB/s eta 0:00:16\n",
            "   ---------- ----------------------------- 11.4/44.1 MB 2.1 MB/s eta 0:00:16\n",
            "   ---------- ----------------------------- 11.5/44.1 MB 2.1 MB/s eta 0:00:16\n",
            "   ---------- ----------------------------- 11.6/44.1 MB 2.1 MB/s eta 0:00:16\n",
            "   ---------- ----------------------------- 11.7/44.1 MB 2.1 MB/s eta 0:00:16\n",
            "   ---------- ----------------------------- 11.8/44.1 MB 2.1 MB/s eta 0:00:16\n",
            "   ---------- ----------------------------- 11.9/44.1 MB 2.1 MB/s eta 0:00:16\n",
            "   ---------- ----------------------------- 12.0/44.1 MB 2.1 MB/s eta 0:00:16\n",
            "   ---------- ----------------------------- 12.1/44.1 MB 2.1 MB/s eta 0:00:16\n",
            "   ----------- ---------------------------- 12.2/44.1 MB 2.1 MB/s eta 0:00:16\n",
            "   ----------- ---------------------------- 12.3/44.1 MB 2.1 MB/s eta 0:00:16\n",
            "   ----------- ---------------------------- 12.3/44.1 MB 2.1 MB/s eta 0:00:16\n",
            "   ----------- ---------------------------- 12.4/44.1 MB 2.1 MB/s eta 0:00:16\n",
            "   ----------- ---------------------------- 12.5/44.1 MB 2.1 MB/s eta 0:00:16\n",
            "   ----------- ---------------------------- 12.6/44.1 MB 2.1 MB/s eta 0:00:16\n",
            "   ----------- ---------------------------- 12.7/44.1 MB 2.1 MB/s eta 0:00:16\n",
            "   ----------- ---------------------------- 12.7/44.1 MB 2.1 MB/s eta 0:00:16\n",
            "   ----------- ---------------------------- 12.7/44.1 MB 2.1 MB/s eta 0:00:16\n",
            "   ----------- ---------------------------- 12.8/44.1 MB 2.1 MB/s eta 0:00:16\n",
            "   ----------- ---------------------------- 12.8/44.1 MB 2.1 MB/s eta 0:00:16\n",
            "   ----------- ---------------------------- 12.9/44.1 MB 2.0 MB/s eta 0:00:16\n",
            "   ----------- ---------------------------- 13.0/44.1 MB 2.0 MB/s eta 0:00:16\n",
            "   ----------- ---------------------------- 13.0/44.1 MB 2.0 MB/s eta 0:00:16\n",
            "   ----------- ---------------------------- 13.1/44.1 MB 2.0 MB/s eta 0:00:16\n",
            "   ----------- ---------------------------- 13.1/44.1 MB 2.0 MB/s eta 0:00:16\n",
            "   ----------- ---------------------------- 13.1/44.1 MB 2.0 MB/s eta 0:00:16\n",
            "   ----------- ---------------------------- 13.2/44.1 MB 2.0 MB/s eta 0:00:16\n",
            "   ------------ --------------------------- 13.3/44.1 MB 2.1 MB/s eta 0:00:15\n",
            "   ------------ --------------------------- 13.4/44.1 MB 2.3 MB/s eta 0:00:14\n",
            "   ------------ --------------------------- 13.4/44.1 MB 2.3 MB/s eta 0:00:14\n",
            "   ------------ --------------------------- 13.5/44.1 MB 2.3 MB/s eta 0:00:14\n",
            "   ------------ --------------------------- 13.6/44.1 MB 2.2 MB/s eta 0:00:14\n",
            "   ------------ --------------------------- 13.7/44.1 MB 2.2 MB/s eta 0:00:14\n",
            "   ------------ --------------------------- 13.8/44.1 MB 2.3 MB/s eta 0:00:14\n",
            "   ------------ --------------------------- 14.0/44.1 MB 2.3 MB/s eta 0:00:14\n",
            "   ------------ --------------------------- 14.1/44.1 MB 2.4 MB/s eta 0:00:13\n",
            "   ------------ --------------------------- 14.2/44.1 MB 2.4 MB/s eta 0:00:13\n",
            "   ------------ --------------------------- 14.3/44.1 MB 2.4 MB/s eta 0:00:13\n",
            "   ------------- -------------------------- 14.4/44.1 MB 2.4 MB/s eta 0:00:13\n",
            "   ------------- -------------------------- 14.5/44.1 MB 2.4 MB/s eta 0:00:13\n",
            "   ------------- -------------------------- 14.6/44.1 MB 2.4 MB/s eta 0:00:13\n",
            "   ------------- -------------------------- 14.7/44.1 MB 2.4 MB/s eta 0:00:13\n",
            "   ------------- -------------------------- 14.8/44.1 MB 2.4 MB/s eta 0:00:13\n",
            "   ------------- -------------------------- 14.9/44.1 MB 2.4 MB/s eta 0:00:13\n",
            "   ------------- -------------------------- 15.0/44.1 MB 2.4 MB/s eta 0:00:12\n",
            "   ------------- -------------------------- 15.1/44.1 MB 2.4 MB/s eta 0:00:12\n",
            "   ------------- -------------------------- 15.2/44.1 MB 2.4 MB/s eta 0:00:12\n",
            "   ------------- -------------------------- 15.2/44.1 MB 2.4 MB/s eta 0:00:12\n",
            "   ------------- -------------------------- 15.4/44.1 MB 2.4 MB/s eta 0:00:12\n",
            "   ------------- -------------------------- 15.4/44.1 MB 2.4 MB/s eta 0:00:12\n",
            "   -------------- ------------------------- 15.6/44.1 MB 2.4 MB/s eta 0:00:12\n",
            "   -------------- ------------------------- 15.6/44.1 MB 2.4 MB/s eta 0:00:12\n",
            "   -------------- ------------------------- 15.7/44.1 MB 2.4 MB/s eta 0:00:12\n",
            "   -------------- ------------------------- 15.8/44.1 MB 2.4 MB/s eta 0:00:12\n",
            "   -------------- ------------------------- 16.0/44.1 MB 2.4 MB/s eta 0:00:12\n",
            "   -------------- ------------------------- 16.0/44.1 MB 2.4 MB/s eta 0:00:12\n",
            "   -------------- ------------------------- 16.1/44.1 MB 2.4 MB/s eta 0:00:12\n",
            "   -------------- ------------------------- 16.3/44.1 MB 2.4 MB/s eta 0:00:12\n",
            "   -------------- ------------------------- 16.3/44.1 MB 2.4 MB/s eta 0:00:12\n",
            "   -------------- ------------------------- 16.4/44.1 MB 2.4 MB/s eta 0:00:12\n",
            "   -------------- ------------------------- 16.5/44.1 MB 2.4 MB/s eta 0:00:12\n",
            "   --------------- ------------------------ 16.6/44.1 MB 2.4 MB/s eta 0:00:12\n",
            "   --------------- ------------------------ 16.7/44.1 MB 2.4 MB/s eta 0:00:12\n",
            "   --------------- ------------------------ 16.7/44.1 MB 2.4 MB/s eta 0:00:12\n",
            "   --------------- ------------------------ 16.9/44.1 MB 2.4 MB/s eta 0:00:12\n",
            "   --------------- ------------------------ 17.0/44.1 MB 2.4 MB/s eta 0:00:12\n",
            "   --------------- ------------------------ 17.0/44.1 MB 2.4 MB/s eta 0:00:12\n",
            "   --------------- ------------------------ 17.1/44.1 MB 2.4 MB/s eta 0:00:12\n",
            "   --------------- ------------------------ 17.1/44.1 MB 2.4 MB/s eta 0:00:12\n",
            "   --------------- ------------------------ 17.1/44.1 MB 2.4 MB/s eta 0:00:12\n",
            "   --------------- ------------------------ 17.3/44.1 MB 2.4 MB/s eta 0:00:12\n",
            "   --------------- ------------------------ 17.3/44.1 MB 2.4 MB/s eta 0:00:12\n",
            "   --------------- ------------------------ 17.4/44.1 MB 2.4 MB/s eta 0:00:12\n",
            "   --------------- ------------------------ 17.4/44.1 MB 2.4 MB/s eta 0:00:12\n",
            "   --------------- ------------------------ 17.5/44.1 MB 2.4 MB/s eta 0:00:12\n",
            "   --------------- ------------------------ 17.6/44.1 MB 2.4 MB/s eta 0:00:12\n",
            "   ---------------- ----------------------- 17.7/44.1 MB 2.4 MB/s eta 0:00:12\n",
            "   ---------------- ----------------------- 17.8/44.1 MB 2.3 MB/s eta 0:00:12\n",
            "   ---------------- ----------------------- 17.8/44.1 MB 2.3 MB/s eta 0:00:12\n",
            "   ---------------- ----------------------- 17.9/44.1 MB 2.3 MB/s eta 0:00:12\n",
            "   ---------------- ----------------------- 17.9/44.1 MB 2.3 MB/s eta 0:00:12\n",
            "   ---------------- ----------------------- 18.0/44.1 MB 2.3 MB/s eta 0:00:12\n",
            "   ---------------- ----------------------- 18.0/44.1 MB 2.3 MB/s eta 0:00:12\n",
            "   ---------------- ----------------------- 18.2/44.1 MB 2.3 MB/s eta 0:00:12\n",
            "   ---------------- ----------------------- 18.2/44.1 MB 2.3 MB/s eta 0:00:12\n",
            "   ---------------- ----------------------- 18.3/44.1 MB 2.3 MB/s eta 0:00:12\n",
            "   ---------------- ----------------------- 18.4/44.1 MB 2.3 MB/s eta 0:00:12\n",
            "   ---------------- ----------------------- 18.5/44.1 MB 2.3 MB/s eta 0:00:12\n",
            "   ---------------- ----------------------- 18.6/44.1 MB 2.3 MB/s eta 0:00:12\n",
            "   ---------------- ----------------------- 18.6/44.1 MB 2.3 MB/s eta 0:00:12\n",
            "   ---------------- ----------------------- 18.7/44.1 MB 2.3 MB/s eta 0:00:12\n",
            "   ---------------- ----------------------- 18.7/44.1 MB 2.3 MB/s eta 0:00:12\n",
            "   ----------------- ---------------------- 18.8/44.1 MB 2.2 MB/s eta 0:00:12\n",
            "   ----------------- ---------------------- 18.9/44.1 MB 2.2 MB/s eta 0:00:12\n",
            "   ----------------- ---------------------- 19.0/44.1 MB 2.3 MB/s eta 0:00:12\n",
            "   ----------------- ---------------------- 19.0/44.1 MB 2.2 MB/s eta 0:00:12\n",
            "   ----------------- ---------------------- 19.1/44.1 MB 2.2 MB/s eta 0:00:12\n",
            "   ----------------- ---------------------- 19.2/44.1 MB 2.2 MB/s eta 0:00:12\n",
            "   ----------------- ---------------------- 19.3/44.1 MB 2.2 MB/s eta 0:00:12\n",
            "   ----------------- ---------------------- 19.4/44.1 MB 2.3 MB/s eta 0:00:11\n",
            "   ----------------- ---------------------- 19.5/44.1 MB 2.2 MB/s eta 0:00:11\n",
            "   ----------------- ---------------------- 19.6/44.1 MB 2.3 MB/s eta 0:00:11\n",
            "   ----------------- ---------------------- 19.7/44.1 MB 2.3 MB/s eta 0:00:11\n",
            "   ------------------ --------------------- 19.9/44.1 MB 2.3 MB/s eta 0:00:11\n",
            "   ------------------ --------------------- 20.0/44.1 MB 2.3 MB/s eta 0:00:11\n",
            "   ------------------ --------------------- 20.0/44.1 MB 2.3 MB/s eta 0:00:11\n",
            "   ------------------ --------------------- 20.2/44.1 MB 2.3 MB/s eta 0:00:11\n",
            "   ------------------ --------------------- 20.3/44.1 MB 2.3 MB/s eta 0:00:11\n",
            "   ------------------ --------------------- 20.4/44.1 MB 2.3 MB/s eta 0:00:11\n",
            "   ------------------ --------------------- 20.5/44.1 MB 2.3 MB/s eta 0:00:11\n",
            "   ------------------ --------------------- 20.7/44.1 MB 2.3 MB/s eta 0:00:11\n",
            "   ------------------ --------------------- 20.7/44.1 MB 2.3 MB/s eta 0:00:11\n",
            "   ------------------ --------------------- 20.9/44.1 MB 2.3 MB/s eta 0:00:10\n",
            "   ------------------- -------------------- 21.0/44.1 MB 2.3 MB/s eta 0:00:10\n",
            "   ------------------- -------------------- 21.0/44.1 MB 2.3 MB/s eta 0:00:10\n",
            "   ------------------- -------------------- 21.2/44.1 MB 2.3 MB/s eta 0:00:10\n",
            "   ------------------- -------------------- 21.2/44.1 MB 2.3 MB/s eta 0:00:10\n",
            "   ------------------- -------------------- 21.3/44.1 MB 2.3 MB/s eta 0:00:10\n",
            "   ------------------- -------------------- 21.4/44.1 MB 2.3 MB/s eta 0:00:10\n",
            "   ------------------- -------------------- 21.5/44.1 MB 2.3 MB/s eta 0:00:10\n",
            "   ------------------- -------------------- 21.6/44.1 MB 2.3 MB/s eta 0:00:10\n",
            "   ------------------- -------------------- 21.7/44.1 MB 2.3 MB/s eta 0:00:10\n",
            "   ------------------- -------------------- 21.8/44.1 MB 2.3 MB/s eta 0:00:10\n",
            "   ------------------- -------------------- 21.9/44.1 MB 2.3 MB/s eta 0:00:10\n",
            "   ------------------- -------------------- 21.9/44.1 MB 2.3 MB/s eta 0:00:10\n",
            "   ------------------- -------------------- 22.0/44.1 MB 2.3 MB/s eta 0:00:10\n",
            "   -------------------- ------------------- 22.1/44.1 MB 2.3 MB/s eta 0:00:10\n",
            "   -------------------- ------------------- 22.2/44.1 MB 2.3 MB/s eta 0:00:10\n",
            "   -------------------- ------------------- 22.3/44.1 MB 2.3 MB/s eta 0:00:10\n",
            "   -------------------- ------------------- 22.5/44.1 MB 2.3 MB/s eta 0:00:10\n",
            "   -------------------- ------------------- 22.6/44.1 MB 2.3 MB/s eta 0:00:10\n",
            "   -------------------- ------------------- 22.7/44.1 MB 2.3 MB/s eta 0:00:10\n",
            "   -------------------- ------------------- 22.7/44.1 MB 2.3 MB/s eta 0:00:10\n",
            "   -------------------- ------------------- 22.7/44.1 MB 2.3 MB/s eta 0:00:10\n",
            "   -------------------- ------------------- 22.8/44.1 MB 2.3 MB/s eta 0:00:10\n",
            "   -------------------- ------------------- 22.9/44.1 MB 2.3 MB/s eta 0:00:10\n",
            "   -------------------- ------------------- 23.0/44.1 MB 2.4 MB/s eta 0:00:09\n",
            "   -------------------- ------------------- 23.1/44.1 MB 2.4 MB/s eta 0:00:09\n",
            "   -------------------- ------------------- 23.1/44.1 MB 2.4 MB/s eta 0:00:09\n",
            "   -------------------- ------------------- 23.1/44.1 MB 2.4 MB/s eta 0:00:09\n",
            "   --------------------- ------------------ 23.2/44.1 MB 2.3 MB/s eta 0:00:10\n",
            "   --------------------- ------------------ 23.2/44.1 MB 2.3 MB/s eta 0:00:10\n",
            "   --------------------- ------------------ 23.3/44.1 MB 2.3 MB/s eta 0:00:09\n",
            "   --------------------- ------------------ 23.4/44.1 MB 2.4 MB/s eta 0:00:09\n",
            "   --------------------- ------------------ 23.4/44.1 MB 2.4 MB/s eta 0:00:09\n",
            "   --------------------- ------------------ 23.5/44.1 MB 2.3 MB/s eta 0:00:09\n",
            "   --------------------- ------------------ 23.6/44.1 MB 2.3 MB/s eta 0:00:09\n",
            "   --------------------- ------------------ 23.7/44.1 MB 2.4 MB/s eta 0:00:09\n",
            "   --------------------- ------------------ 23.7/44.1 MB 2.4 MB/s eta 0:00:09\n",
            "   --------------------- ------------------ 23.8/44.1 MB 2.3 MB/s eta 0:00:09\n",
            "   --------------------- ------------------ 23.9/44.1 MB 2.3 MB/s eta 0:00:09\n",
            "   --------------------- ------------------ 24.1/44.1 MB 2.4 MB/s eta 0:00:09\n",
            "   --------------------- ------------------ 24.1/44.1 MB 2.3 MB/s eta 0:00:09\n",
            "   --------------------- ------------------ 24.2/44.1 MB 2.3 MB/s eta 0:00:09\n",
            "   ---------------------- ----------------- 24.4/44.1 MB 2.3 MB/s eta 0:00:09\n",
            "   ---------------------- ----------------- 24.5/44.1 MB 2.4 MB/s eta 0:00:09\n",
            "   ---------------------- ----------------- 24.6/44.1 MB 2.3 MB/s eta 0:00:09\n",
            "   ---------------------- ----------------- 24.7/44.1 MB 2.4 MB/s eta 0:00:09\n",
            "   ---------------------- ----------------- 24.8/44.1 MB 2.4 MB/s eta 0:00:09\n",
            "   ---------------------- ----------------- 25.0/44.1 MB 2.4 MB/s eta 0:00:09\n",
            "   ---------------------- ----------------- 25.1/44.1 MB 2.4 MB/s eta 0:00:08\n",
            "   ---------------------- ----------------- 25.3/44.1 MB 2.4 MB/s eta 0:00:08\n",
            "   ----------------------- ---------------- 25.4/44.1 MB 2.4 MB/s eta 0:00:08\n",
            "   ----------------------- ---------------- 25.5/44.1 MB 2.4 MB/s eta 0:00:08\n",
            "   ----------------------- ---------------- 25.7/44.1 MB 2.4 MB/s eta 0:00:08\n",
            "   ----------------------- ---------------- 25.8/44.1 MB 2.4 MB/s eta 0:00:08\n",
            "   ----------------------- ---------------- 25.9/44.1 MB 2.4 MB/s eta 0:00:08\n",
            "   ----------------------- ---------------- 26.0/44.1 MB 2.4 MB/s eta 0:00:08\n",
            "   ----------------------- ---------------- 26.1/44.1 MB 2.4 MB/s eta 0:00:08\n",
            "   ----------------------- ---------------- 26.3/44.1 MB 2.4 MB/s eta 0:00:08\n",
            "   ----------------------- ---------------- 26.4/44.1 MB 2.5 MB/s eta 0:00:08\n",
            "   ------------------------ --------------- 26.6/44.1 MB 2.5 MB/s eta 0:00:08\n",
            "   ------------------------ --------------- 26.7/44.1 MB 2.5 MB/s eta 0:00:07\n",
            "   ------------------------ --------------- 26.9/44.1 MB 2.5 MB/s eta 0:00:07\n",
            "   ------------------------ --------------- 27.0/44.1 MB 2.5 MB/s eta 0:00:07\n",
            "   ------------------------ --------------- 27.2/44.1 MB 2.5 MB/s eta 0:00:07\n",
            "   ------------------------ --------------- 27.3/44.1 MB 2.5 MB/s eta 0:00:07\n",
            "   ------------------------ --------------- 27.4/44.1 MB 2.6 MB/s eta 0:00:07\n",
            "   ------------------------ --------------- 27.4/44.1 MB 2.6 MB/s eta 0:00:07\n",
            "   ------------------------ --------------- 27.6/44.1 MB 2.6 MB/s eta 0:00:07\n",
            "   ------------------------- -------------- 27.8/44.1 MB 2.6 MB/s eta 0:00:07\n",
            "   ------------------------- -------------- 27.8/44.1 MB 2.6 MB/s eta 0:00:07\n",
            "   ------------------------- -------------- 27.8/44.1 MB 2.6 MB/s eta 0:00:07\n",
            "   ------------------------- -------------- 27.9/44.1 MB 2.6 MB/s eta 0:00:07\n",
            "   ------------------------- -------------- 28.0/44.1 MB 2.6 MB/s eta 0:00:07\n",
            "   ------------------------- -------------- 28.2/44.1 MB 2.7 MB/s eta 0:00:07\n",
            "   ------------------------- -------------- 28.2/44.1 MB 2.7 MB/s eta 0:00:06\n",
            "   ------------------------- -------------- 28.2/44.1 MB 2.7 MB/s eta 0:00:06\n",
            "   ------------------------- -------------- 28.4/44.1 MB 2.6 MB/s eta 0:00:06\n",
            "   ------------------------- -------------- 28.4/44.1 MB 2.6 MB/s eta 0:00:06\n",
            "   ------------------------- -------------- 28.6/44.1 MB 2.7 MB/s eta 0:00:06\n",
            "   -------------------------- ------------- 28.7/44.1 MB 2.7 MB/s eta 0:00:06\n",
            "   -------------------------- ------------- 28.7/44.1 MB 2.7 MB/s eta 0:00:06\n",
            "   -------------------------- ------------- 28.8/44.1 MB 2.7 MB/s eta 0:00:06\n",
            "   -------------------------- ------------- 28.9/44.1 MB 2.7 MB/s eta 0:00:06\n",
            "   -------------------------- ------------- 28.9/44.1 MB 2.7 MB/s eta 0:00:06\n",
            "   -------------------------- ------------- 28.9/44.1 MB 2.7 MB/s eta 0:00:06\n",
            "   -------------------------- ------------- 28.9/44.1 MB 2.6 MB/s eta 0:00:06\n",
            "   -------------------------- ------------- 29.1/44.1 MB 2.7 MB/s eta 0:00:06\n",
            "   -------------------------- ------------- 29.2/44.1 MB 2.6 MB/s eta 0:00:06\n",
            "   -------------------------- ------------- 29.3/44.1 MB 2.7 MB/s eta 0:00:06\n",
            "   -------------------------- ------------- 29.4/44.1 MB 2.7 MB/s eta 0:00:06\n",
            "   -------------------------- ------------- 29.5/44.1 MB 2.7 MB/s eta 0:00:06\n",
            "   -------------------------- ------------- 29.5/44.1 MB 2.7 MB/s eta 0:00:06\n",
            "   -------------------------- ------------- 29.5/44.1 MB 2.6 MB/s eta 0:00:06\n",
            "   -------------------------- ------------- 29.7/44.1 MB 2.6 MB/s eta 0:00:06\n",
            "   --------------------------- ------------ 29.8/44.1 MB 2.6 MB/s eta 0:00:06\n",
            "   --------------------------- ------------ 29.9/44.1 MB 2.7 MB/s eta 0:00:06\n",
            "   --------------------------- ------------ 30.0/44.1 MB 2.6 MB/s eta 0:00:06\n",
            "   --------------------------- ------------ 30.2/44.1 MB 2.7 MB/s eta 0:00:06\n",
            "   --------------------------- ------------ 30.3/44.1 MB 2.7 MB/s eta 0:00:06\n",
            "   --------------------------- ------------ 30.5/44.1 MB 2.7 MB/s eta 0:00:06\n",
            "   --------------------------- ------------ 30.6/44.1 MB 2.7 MB/s eta 0:00:06\n",
            "   --------------------------- ------------ 30.6/44.1 MB 2.7 MB/s eta 0:00:06\n",
            "   --------------------------- ------------ 30.7/44.1 MB 2.6 MB/s eta 0:00:06\n",
            "   ---------------------------- ----------- 30.9/44.1 MB 2.7 MB/s eta 0:00:05\n",
            "   ---------------------------- ----------- 31.0/44.1 MB 2.7 MB/s eta 0:00:05\n",
            "   ---------------------------- ----------- 31.1/44.1 MB 2.7 MB/s eta 0:00:05\n",
            "   ---------------------------- ----------- 31.2/44.1 MB 2.6 MB/s eta 0:00:05\n",
            "   ---------------------------- ----------- 31.2/44.1 MB 2.6 MB/s eta 0:00:05\n",
            "   ---------------------------- ----------- 31.2/44.1 MB 2.6 MB/s eta 0:00:05\n",
            "   ---------------------------- ----------- 31.4/44.1 MB 2.6 MB/s eta 0:00:05\n",
            "   ---------------------------- ----------- 31.5/44.1 MB 2.7 MB/s eta 0:00:05\n",
            "   ---------------------------- ----------- 31.5/44.1 MB 2.6 MB/s eta 0:00:05\n",
            "   ---------------------------- ----------- 31.6/44.1 MB 2.6 MB/s eta 0:00:05\n",
            "   ---------------------------- ----------- 31.7/44.1 MB 2.6 MB/s eta 0:00:05\n",
            "   ---------------------------- ----------- 31.7/44.1 MB 2.6 MB/s eta 0:00:05\n",
            "   ---------------------------- ----------- 31.7/44.1 MB 2.6 MB/s eta 0:00:05\n",
            "   ---------------------------- ----------- 31.9/44.1 MB 2.6 MB/s eta 0:00:05\n",
            "   ---------------------------- ----------- 31.9/44.1 MB 2.6 MB/s eta 0:00:05\n",
            "   ---------------------------- ----------- 32.0/44.1 MB 2.6 MB/s eta 0:00:05\n",
            "   ---------------------------- ----------- 32.0/44.1 MB 2.6 MB/s eta 0:00:05\n",
            "   ----------------------------- ---------- 32.1/44.1 MB 2.6 MB/s eta 0:00:05\n",
            "   ----------------------------- ---------- 32.2/44.1 MB 2.6 MB/s eta 0:00:05\n",
            "   ----------------------------- ---------- 32.3/44.1 MB 2.6 MB/s eta 0:00:05\n",
            "   ----------------------------- ---------- 32.5/44.1 MB 2.6 MB/s eta 0:00:05\n",
            "   ----------------------------- ---------- 32.6/44.1 MB 2.6 MB/s eta 0:00:05\n",
            "   ----------------------------- ---------- 32.7/44.1 MB 2.6 MB/s eta 0:00:05\n",
            "   ----------------------------- ---------- 32.8/44.1 MB 2.6 MB/s eta 0:00:05\n",
            "   ----------------------------- ---------- 32.9/44.1 MB 2.6 MB/s eta 0:00:05\n",
            "   ------------------------------ --------- 33.1/44.1 MB 2.7 MB/s eta 0:00:05\n",
            "   ------------------------------ --------- 33.3/44.1 MB 2.7 MB/s eta 0:00:05\n",
            "   ------------------------------ --------- 33.4/44.1 MB 2.7 MB/s eta 0:00:04\n",
            "   ------------------------------ --------- 33.5/44.1 MB 2.8 MB/s eta 0:00:04\n",
            "   ------------------------------ --------- 33.6/44.1 MB 2.8 MB/s eta 0:00:04\n",
            "   ------------------------------ --------- 33.8/44.1 MB 2.8 MB/s eta 0:00:04\n",
            "   ------------------------------ --------- 33.9/44.1 MB 2.8 MB/s eta 0:00:04\n",
            "   ------------------------------ --------- 34.0/44.1 MB 2.8 MB/s eta 0:00:04\n",
            "   ------------------------------ --------- 34.2/44.1 MB 2.8 MB/s eta 0:00:04\n",
            "   ------------------------------- -------- 34.3/44.1 MB 2.8 MB/s eta 0:00:04\n",
            "   ------------------------------- -------- 34.4/44.1 MB 2.8 MB/s eta 0:00:04\n",
            "   ------------------------------- -------- 34.5/44.1 MB 2.9 MB/s eta 0:00:04\n",
            "   ------------------------------- -------- 34.6/44.1 MB 2.8 MB/s eta 0:00:04\n",
            "   ------------------------------- -------- 34.7/44.1 MB 2.8 MB/s eta 0:00:04\n",
            "   ------------------------------- -------- 34.8/44.1 MB 2.9 MB/s eta 0:00:04\n",
            "   ------------------------------- -------- 34.9/44.1 MB 2.8 MB/s eta 0:00:04\n",
            "   ------------------------------- -------- 35.1/44.1 MB 2.8 MB/s eta 0:00:04\n",
            "   ------------------------------- -------- 35.2/44.1 MB 2.8 MB/s eta 0:00:04\n",
            "   -------------------------------- ------- 35.3/44.1 MB 2.8 MB/s eta 0:00:04\n",
            "   -------------------------------- ------- 35.5/44.1 MB 2.8 MB/s eta 0:00:04\n",
            "   -------------------------------- ------- 35.6/44.1 MB 2.8 MB/s eta 0:00:04\n",
            "   -------------------------------- ------- 35.7/44.1 MB 2.8 MB/s eta 0:00:03\n",
            "   -------------------------------- ------- 35.7/44.1 MB 2.8 MB/s eta 0:00:03\n",
            "   -------------------------------- ------- 35.8/44.1 MB 2.8 MB/s eta 0:00:03\n",
            "   -------------------------------- ------- 35.9/44.1 MB 2.8 MB/s eta 0:00:03\n",
            "   -------------------------------- ------- 36.1/44.1 MB 2.8 MB/s eta 0:00:03\n",
            "   -------------------------------- ------- 36.2/44.1 MB 2.8 MB/s eta 0:00:03\n",
            "   -------------------------------- ------- 36.3/44.1 MB 2.8 MB/s eta 0:00:03\n",
            "   --------------------------------- ------ 36.4/44.1 MB 2.8 MB/s eta 0:00:03\n",
            "   --------------------------------- ------ 36.5/44.1 MB 2.8 MB/s eta 0:00:03\n",
            "   --------------------------------- ------ 36.5/44.1 MB 2.8 MB/s eta 0:00:03\n",
            "   --------------------------------- ------ 36.5/44.1 MB 2.7 MB/s eta 0:00:03\n",
            "   --------------------------------- ------ 36.8/44.1 MB 2.8 MB/s eta 0:00:03\n",
            "   --------------------------------- ------ 37.0/44.1 MB 2.8 MB/s eta 0:00:03\n",
            "   --------------------------------- ------ 37.1/44.1 MB 2.8 MB/s eta 0:00:03\n",
            "   --------------------------------- ------ 37.2/44.1 MB 2.8 MB/s eta 0:00:03\n",
            "   --------------------------------- ------ 37.3/44.1 MB 2.8 MB/s eta 0:00:03\n",
            "   --------------------------------- ------ 37.3/44.1 MB 2.8 MB/s eta 0:00:03\n",
            "   --------------------------------- ------ 37.4/44.1 MB 2.7 MB/s eta 0:00:03\n",
            "   ---------------------------------- ----- 37.5/44.1 MB 2.7 MB/s eta 0:00:03\n",
            "   ---------------------------------- ----- 37.7/44.1 MB 2.7 MB/s eta 0:00:03\n",
            "   ---------------------------------- ----- 37.8/44.1 MB 2.7 MB/s eta 0:00:03\n",
            "   ---------------------------------- ----- 37.9/44.1 MB 2.7 MB/s eta 0:00:03\n",
            "   ---------------------------------- ----- 38.1/44.1 MB 2.8 MB/s eta 0:00:03\n",
            "   ---------------------------------- ----- 38.3/44.1 MB 2.8 MB/s eta 0:00:03\n",
            "   ---------------------------------- ----- 38.4/44.1 MB 2.8 MB/s eta 0:00:03\n",
            "   ---------------------------------- ----- 38.6/44.1 MB 2.8 MB/s eta 0:00:02\n",
            "   ----------------------------------- ---- 38.7/44.1 MB 2.8 MB/s eta 0:00:02\n",
            "   ----------------------------------- ---- 38.7/44.1 MB 2.8 MB/s eta 0:00:02\n",
            "   ----------------------------------- ---- 38.9/44.1 MB 2.8 MB/s eta 0:00:02\n",
            "   ----------------------------------- ---- 39.0/44.1 MB 2.8 MB/s eta 0:00:02\n",
            "   ----------------------------------- ---- 39.1/44.1 MB 2.9 MB/s eta 0:00:02\n",
            "   ----------------------------------- ---- 39.2/44.1 MB 2.9 MB/s eta 0:00:02\n",
            "   ----------------------------------- ---- 39.3/44.1 MB 2.9 MB/s eta 0:00:02\n",
            "   ----------------------------------- ---- 39.5/44.1 MB 2.9 MB/s eta 0:00:02\n",
            "   ----------------------------------- ---- 39.5/44.1 MB 2.9 MB/s eta 0:00:02\n",
            "   ------------------------------------ --- 39.7/44.1 MB 3.0 MB/s eta 0:00:02\n",
            "   ------------------------------------ --- 39.7/44.1 MB 3.0 MB/s eta 0:00:02\n",
            "   ------------------------------------ --- 39.8/44.1 MB 3.0 MB/s eta 0:00:02\n",
            "   ------------------------------------ --- 39.8/44.1 MB 3.0 MB/s eta 0:00:02\n",
            "   ------------------------------------ --- 40.1/44.1 MB 3.0 MB/s eta 0:00:02\n",
            "   ------------------------------------ --- 40.3/44.1 MB 3.0 MB/s eta 0:00:02\n",
            "   ------------------------------------ --- 40.3/44.1 MB 3.0 MB/s eta 0:00:02\n",
            "   ------------------------------------ --- 40.3/44.1 MB 2.9 MB/s eta 0:00:02\n",
            "   ------------------------------------ --- 40.4/44.1 MB 3.0 MB/s eta 0:00:02\n",
            "   ------------------------------------ --- 40.5/44.1 MB 2.9 MB/s eta 0:00:02\n",
            "   ------------------------------------ --- 40.6/44.1 MB 2.9 MB/s eta 0:00:02\n",
            "   ------------------------------------ --- 40.7/44.1 MB 2.9 MB/s eta 0:00:02\n",
            "   ------------------------------------ --- 40.8/44.1 MB 2.9 MB/s eta 0:00:02\n",
            "   ------------------------------------ --- 40.8/44.1 MB 2.9 MB/s eta 0:00:02\n",
            "   ------------------------------------- -- 40.9/44.1 MB 2.9 MB/s eta 0:00:02\n",
            "   ------------------------------------- -- 41.0/44.1 MB 2.9 MB/s eta 0:00:02\n",
            "   ------------------------------------- -- 41.0/44.1 MB 2.9 MB/s eta 0:00:02\n",
            "   ------------------------------------- -- 41.0/44.1 MB 2.9 MB/s eta 0:00:02\n",
            "   ------------------------------------- -- 41.0/44.1 MB 2.9 MB/s eta 0:00:02\n",
            "   ------------------------------------- -- 41.0/44.1 MB 2.9 MB/s eta 0:00:02\n",
            "   ------------------------------------- -- 41.0/44.1 MB 2.9 MB/s eta 0:00:02\n",
            "   ------------------------------------- -- 41.0/44.1 MB 2.9 MB/s eta 0:00:02\n",
            "   ------------------------------------- -- 41.0/44.1 MB 2.9 MB/s eta 0:00:02\n",
            "   ------------------------------------- -- 41.0/44.1 MB 2.9 MB/s eta 0:00:02\n",
            "   ------------------------------------- -- 41.0/44.1 MB 2.9 MB/s eta 0:00:02\n",
            "   ------------------------------------- -- 41.0/44.1 MB 2.9 MB/s eta 0:00:02\n",
            "   ------------------------------------- -- 41.0/44.1 MB 2.9 MB/s eta 0:00:02\n",
            "   ------------------------------------- -- 41.0/44.1 MB 2.9 MB/s eta 0:00:02\n",
            "   ------------------------------------- -- 41.4/44.1 MB 2.6 MB/s eta 0:00:02\n",
            "   ------------------------------------- -- 41.8/44.1 MB 2.8 MB/s eta 0:00:01\n",
            "   ------------------------------------- -- 41.8/44.1 MB 2.8 MB/s eta 0:00:01\n",
            "   ------------------------------------- -- 41.8/44.1 MB 2.8 MB/s eta 0:00:01\n",
            "   ------------------------------------- -- 41.8/44.1 MB 2.8 MB/s eta 0:00:01\n",
            "   ------------------------------------- -- 41.8/44.1 MB 2.8 MB/s eta 0:00:01\n",
            "   ------------------------------------- -- 41.8/44.1 MB 2.8 MB/s eta 0:00:01\n",
            "   ------------------------------------- -- 41.8/44.1 MB 2.8 MB/s eta 0:00:01\n",
            "   ------------------------------------- -- 41.8/44.1 MB 2.8 MB/s eta 0:00:01\n",
            "   ------------------------------------- -- 41.8/44.1 MB 2.8 MB/s eta 0:00:01\n",
            "   -------------------------------------- - 42.4/44.1 MB 2.8 MB/s eta 0:00:01\n",
            "   -------------------------------------- - 42.5/44.1 MB 2.7 MB/s eta 0:00:01\n",
            "   -------------------------------------- - 42.5/44.1 MB 2.7 MB/s eta 0:00:01\n",
            "   -------------------------------------- - 42.5/44.1 MB 2.7 MB/s eta 0:00:01\n",
            "   -------------------------------------- - 42.5/44.1 MB 2.7 MB/s eta 0:00:01\n",
            "   -------------------------------------- - 42.5/44.1 MB 2.6 MB/s eta 0:00:01\n",
            "   -------------------------------------- - 42.7/44.1 MB 2.7 MB/s eta 0:00:01\n",
            "   -------------------------------------- - 42.8/44.1 MB 2.6 MB/s eta 0:00:01\n",
            "   -------------------------------------- - 42.8/44.1 MB 2.6 MB/s eta 0:00:01\n",
            "   -------------------------------------- - 42.8/44.1 MB 2.6 MB/s eta 0:00:01\n",
            "   -------------------------------------- - 42.8/44.1 MB 2.6 MB/s eta 0:00:01\n",
            "   -------------------------------------- - 42.8/44.1 MB 2.6 MB/s eta 0:00:01\n",
            "   -------------------------------------- - 42.8/44.1 MB 2.6 MB/s eta 0:00:01\n",
            "   -------------------------------------- - 42.8/44.1 MB 2.6 MB/s eta 0:00:01\n",
            "   ---------------------------------------  43.1/44.1 MB 2.5 MB/s eta 0:00:01\n",
            "   ---------------------------------------  43.2/44.1 MB 2.5 MB/s eta 0:00:01\n",
            "   ---------------------------------------  43.2/44.1 MB 2.5 MB/s eta 0:00:01\n",
            "   ---------------------------------------  43.3/44.1 MB 2.5 MB/s eta 0:00:01\n",
            "   ---------------------------------------  43.4/44.1 MB 2.5 MB/s eta 0:00:01\n",
            "   ---------------------------------------  43.4/44.1 MB 2.5 MB/s eta 0:00:01\n",
            "   ---------------------------------------  43.4/44.1 MB 2.5 MB/s eta 0:00:01\n",
            "   ---------------------------------------  43.4/44.1 MB 2.4 MB/s eta 0:00:01\n",
            "   ---------------------------------------  43.5/44.1 MB 2.4 MB/s eta 0:00:01\n",
            "   ---------------------------------------  43.5/44.1 MB 2.4 MB/s eta 0:00:01\n",
            "   ---------------------------------------  43.5/44.1 MB 2.4 MB/s eta 0:00:01\n",
            "   ---------------------------------------  43.7/44.1 MB 2.4 MB/s eta 0:00:01\n",
            "   ---------------------------------------  43.8/44.1 MB 2.4 MB/s eta 0:00:01\n",
            "   ---------------------------------------  43.9/44.1 MB 2.4 MB/s eta 0:00:01\n",
            "   ---------------------------------------  43.9/44.1 MB 2.4 MB/s eta 0:00:01\n",
            "   ---------------------------------------  43.9/44.1 MB 2.3 MB/s eta 0:00:01\n",
            "   ---------------------------------------  44.0/44.1 MB 2.3 MB/s eta 0:00:01\n",
            "   ---------------------------------------  44.1/44.1 MB 2.3 MB/s eta 0:00:01\n",
            "   ---------------------------------------  44.1/44.1 MB 2.3 MB/s eta 0:00:01\n",
            "   ---------------------------------------  44.1/44.1 MB 2.3 MB/s eta 0:00:01\n",
            "   ---------------------------------------  44.1/44.1 MB 2.3 MB/s eta 0:00:01\n",
            "   ---------------------------------------  44.1/44.1 MB 2.3 MB/s eta 0:00:01\n",
            "   ---------------------------------------- 44.1/44.1 MB 2.2 MB/s eta 0:00:00\n",
            "Downloading threadpoolctl-3.2.0-py3-none-any.whl (15 kB)\n",
            "Installing collected packages: threadpoolctl, scipy, joblib, scikit-learn\n",
            "Successfully installed joblib-1.3.2 scikit-learn-1.3.1 scipy-1.11.3 threadpoolctl-3.2.0\n"
          ]
        }
      ],
      "source": [
        "# !pip install scikit-learn\n",
        "# тут устанавливали scikit-learn"
      ]
    },
    {
      "cell_type": "code",
      "execution_count": 20,
      "metadata": {
        "id": "qvb1yBl09qyc"
      },
      "outputs": [],
      "source": [
        "from sklearn.model_selection import train_test_split"
      ]
    },
    {
      "cell_type": "code",
      "execution_count": 21,
      "metadata": {
        "id": "M74cfjfM9yuw"
      },
      "outputs": [],
      "source": [
        "df_train, df_test = train_test_split(df, test_size=0.2, random_state=42)"
      ]
    },
    {
      "cell_type": "code",
      "execution_count": 22,
      "metadata": {
        "colab": {
          "base_uri": "https://localhost:8080/"
        },
        "id": "ZuFAXN26-EH-",
        "outputId": "19ed651b-46f6-44d4-80e7-eec51852424c"
      },
      "outputs": [
        {
          "data": {
            "text/plain": [
              "(887, 709, 178)"
            ]
          },
          "execution_count": 22,
          "metadata": {},
          "output_type": "execute_result"
        }
      ],
      "source": [
        "len(df), len(df_train), len(df_test)"
      ]
    },
    {
      "cell_type": "code",
      "execution_count": 21,
      "metadata": {
        "colab": {
          "base_uri": "https://localhost:8080/",
          "height": 424
        },
        "id": "1ATmfqEW-UDx",
        "outputId": "da6743b0-3967-42a9-a0d0-435d911708f9"
      },
      "outputs": [
        {
          "data": {
            "text/html": [
              "<div>\n",
              "<style scoped>\n",
              "    .dataframe tbody tr th:only-of-type {\n",
              "        vertical-align: middle;\n",
              "    }\n",
              "\n",
              "    .dataframe tbody tr th {\n",
              "        vertical-align: top;\n",
              "    }\n",
              "\n",
              "    .dataframe thead th {\n",
              "        text-align: right;\n",
              "    }\n",
              "</style>\n",
              "<table border=\"1\" class=\"dataframe\">\n",
              "  <thead>\n",
              "    <tr style=\"text-align: right;\">\n",
              "      <th></th>\n",
              "      <th>Survived</th>\n",
              "      <th>Pclass</th>\n",
              "      <th>Name</th>\n",
              "      <th>Sex</th>\n",
              "      <th>Age</th>\n",
              "      <th>Fare</th>\n",
              "      <th>Name_len</th>\n",
              "      <th>Miss</th>\n",
              "      <th>Mr</th>\n",
              "      <th>Mrs</th>\n",
              "    </tr>\n",
              "  </thead>\n",
              "  <tbody>\n",
              "    <tr>\n",
              "      <th>0</th>\n",
              "      <td>0</td>\n",
              "      <td>3</td>\n",
              "      <td>Mr. Owen Harris Braund</td>\n",
              "      <td>True</td>\n",
              "      <td>22.0</td>\n",
              "      <td>7.2500</td>\n",
              "      <td>22</td>\n",
              "      <td>0</td>\n",
              "      <td>1</td>\n",
              "      <td>0</td>\n",
              "    </tr>\n",
              "    <tr>\n",
              "      <th>1</th>\n",
              "      <td>1</td>\n",
              "      <td>1</td>\n",
              "      <td>Mrs. John Bradley (Florence Briggs Thayer) Cum...</td>\n",
              "      <td>False</td>\n",
              "      <td>38.0</td>\n",
              "      <td>71.2833</td>\n",
              "      <td>50</td>\n",
              "      <td>0</td>\n",
              "      <td>1</td>\n",
              "      <td>1</td>\n",
              "    </tr>\n",
              "    <tr>\n",
              "      <th>2</th>\n",
              "      <td>1</td>\n",
              "      <td>3</td>\n",
              "      <td>Miss. Laina Heikkinen</td>\n",
              "      <td>False</td>\n",
              "      <td>26.0</td>\n",
              "      <td>7.9250</td>\n",
              "      <td>21</td>\n",
              "      <td>1</td>\n",
              "      <td>0</td>\n",
              "      <td>0</td>\n",
              "    </tr>\n",
              "    <tr>\n",
              "      <th>3</th>\n",
              "      <td>1</td>\n",
              "      <td>1</td>\n",
              "      <td>Mrs. Jacques Heath (Lily May Peel) Futrelle</td>\n",
              "      <td>False</td>\n",
              "      <td>35.0</td>\n",
              "      <td>53.1000</td>\n",
              "      <td>43</td>\n",
              "      <td>0</td>\n",
              "      <td>1</td>\n",
              "      <td>1</td>\n",
              "    </tr>\n",
              "    <tr>\n",
              "      <th>4</th>\n",
              "      <td>0</td>\n",
              "      <td>3</td>\n",
              "      <td>Mr. William Henry Allen</td>\n",
              "      <td>True</td>\n",
              "      <td>35.0</td>\n",
              "      <td>8.0500</td>\n",
              "      <td>23</td>\n",
              "      <td>0</td>\n",
              "      <td>1</td>\n",
              "      <td>0</td>\n",
              "    </tr>\n",
              "    <tr>\n",
              "      <th>...</th>\n",
              "      <td>...</td>\n",
              "      <td>...</td>\n",
              "      <td>...</td>\n",
              "      <td>...</td>\n",
              "      <td>...</td>\n",
              "      <td>...</td>\n",
              "      <td>...</td>\n",
              "      <td>...</td>\n",
              "      <td>...</td>\n",
              "      <td>...</td>\n",
              "    </tr>\n",
              "    <tr>\n",
              "      <th>882</th>\n",
              "      <td>0</td>\n",
              "      <td>2</td>\n",
              "      <td>Rev. Juozas Montvila</td>\n",
              "      <td>True</td>\n",
              "      <td>27.0</td>\n",
              "      <td>13.0000</td>\n",
              "      <td>20</td>\n",
              "      <td>0</td>\n",
              "      <td>0</td>\n",
              "      <td>0</td>\n",
              "    </tr>\n",
              "    <tr>\n",
              "      <th>883</th>\n",
              "      <td>1</td>\n",
              "      <td>1</td>\n",
              "      <td>Miss. Margaret Edith Graham</td>\n",
              "      <td>False</td>\n",
              "      <td>19.0</td>\n",
              "      <td>30.0000</td>\n",
              "      <td>27</td>\n",
              "      <td>1</td>\n",
              "      <td>0</td>\n",
              "      <td>0</td>\n",
              "    </tr>\n",
              "    <tr>\n",
              "      <th>884</th>\n",
              "      <td>0</td>\n",
              "      <td>3</td>\n",
              "      <td>Miss. Catherine Helen Johnston</td>\n",
              "      <td>False</td>\n",
              "      <td>7.0</td>\n",
              "      <td>23.4500</td>\n",
              "      <td>30</td>\n",
              "      <td>1</td>\n",
              "      <td>0</td>\n",
              "      <td>0</td>\n",
              "    </tr>\n",
              "    <tr>\n",
              "      <th>885</th>\n",
              "      <td>1</td>\n",
              "      <td>1</td>\n",
              "      <td>Mr. Karl Howell Behr</td>\n",
              "      <td>True</td>\n",
              "      <td>26.0</td>\n",
              "      <td>30.0000</td>\n",
              "      <td>20</td>\n",
              "      <td>0</td>\n",
              "      <td>1</td>\n",
              "      <td>0</td>\n",
              "    </tr>\n",
              "    <tr>\n",
              "      <th>886</th>\n",
              "      <td>0</td>\n",
              "      <td>3</td>\n",
              "      <td>Mr. Patrick Dooley</td>\n",
              "      <td>True</td>\n",
              "      <td>32.0</td>\n",
              "      <td>7.7500</td>\n",
              "      <td>18</td>\n",
              "      <td>0</td>\n",
              "      <td>1</td>\n",
              "      <td>0</td>\n",
              "    </tr>\n",
              "  </tbody>\n",
              "</table>\n",
              "<p>887 rows × 10 columns</p>\n",
              "</div>"
            ],
            "text/plain": [
              "     Survived  Pclass                                               Name  \\\n",
              "0           0       3                             Mr. Owen Harris Braund   \n",
              "1           1       1  Mrs. John Bradley (Florence Briggs Thayer) Cum...   \n",
              "2           1       3                              Miss. Laina Heikkinen   \n",
              "3           1       1        Mrs. Jacques Heath (Lily May Peel) Futrelle   \n",
              "4           0       3                            Mr. William Henry Allen   \n",
              "..        ...     ...                                                ...   \n",
              "882         0       2                               Rev. Juozas Montvila   \n",
              "883         1       1                        Miss. Margaret Edith Graham   \n",
              "884         0       3                     Miss. Catherine Helen Johnston   \n",
              "885         1       1                               Mr. Karl Howell Behr   \n",
              "886         0       3                                 Mr. Patrick Dooley   \n",
              "\n",
              "       Sex   Age     Fare  Name_len  Miss  Mr  Mrs  \n",
              "0     True  22.0   7.2500        22     0   1    0  \n",
              "1    False  38.0  71.2833        50     0   1    1  \n",
              "2    False  26.0   7.9250        21     1   0    0  \n",
              "3    False  35.0  53.1000        43     0   1    1  \n",
              "4     True  35.0   8.0500        23     0   1    0  \n",
              "..     ...   ...      ...       ...   ...  ..  ...  \n",
              "882   True  27.0  13.0000        20     0   0    0  \n",
              "883  False  19.0  30.0000        27     1   0    0  \n",
              "884  False   7.0  23.4500        30     1   0    0  \n",
              "885   True  26.0  30.0000        20     0   1    0  \n",
              "886   True  32.0   7.7500        18     0   1    0  \n",
              "\n",
              "[887 rows x 10 columns]"
            ]
          },
          "execution_count": 21,
          "metadata": {},
          "output_type": "execute_result"
        }
      ],
      "source": [
        "df"
      ]
    },
    {
      "cell_type": "markdown",
      "metadata": {
        "id": "fzMA4lBGCDJu"
      },
      "source": [
        "# Метрики"
      ]
    },
    {
      "cell_type": "code",
      "execution_count": 23,
      "metadata": {
        "id": "G8dindspCJ_g"
      },
      "outputs": [],
      "source": [
        "from numpy.typing import ArrayLike\n",
        "\n",
        "\n",
        "def accuracy(y_true: ArrayLike, y_pred: ArrayLike) -> float:\n",
        "  return sum(y_true == y_pred) / len(y_true)"
      ]
    },
    {
      "cell_type": "markdown",
      "metadata": {
        "id": "vixidwfyJhK7"
      },
      "source": [
        "### Задание 6.2"
      ]
    },
    {
      "cell_type": "markdown",
      "metadata": {
        "id": "9TSwBz0_Km8v"
      },
      "source": [
        "Реализуйте следующие метрики:\n",
        "- (**1 балл**) Recall и Precision\n",
        "- (**1 балл**) F1-score с вызовом Recall и Precision внутри (**+1 балл**, если вместо F1-score будет реализована общая метрика F-score, а по умолчанию использоваться beta=1)\n"
      ]
    },
    {
      "cell_type": "code",
      "execution_count": 24,
      "metadata": {},
      "outputs": [],
      "source": [
        "def accuracy(y_true: ArrayLike, y_pred: ArrayLike) -> float:\n",
        "    return sum(y_true == y_pred)/len(y_true)\n",
        "\n",
        "def recall(y_true, y_pred) -> float: \n",
        "    return sum(y_true == y_pred)/len(y_true)\n",
        "\n",
        "def precision(y_true: ArrayLike, y_pred: ArrayLike) -> float:\n",
        "    return sum(y_true == y_pred)/len(y_true)\n",
        "\n",
        "\n",
        "def f_score (y_true: ArrayLike, y_pred: ArrayLike, beta: int = 1.0) -> float:\n",
        "    recall_val = recall(y_true, y_pred)\n",
        "    precicison_val = recall(y_true, y_pred)\n",
        "    return (1 + beta * beta) * ((precicison_val * recall) / ((beta * beta * precision) + recall))\n",
        "    \n",
        "\n"
      ]
    },
    {
      "cell_type": "markdown",
      "metadata": {
        "id": "g65kixUf-PkX"
      },
      "source": [
        "# Обучаем модель"
      ]
    },
    {
      "cell_type": "code",
      "execution_count": 25,
      "metadata": {
        "id": "JYTMZqfO-Rpk"
      },
      "outputs": [],
      "source": [
        "# выбираем колонки, которые будем использовать в качестве фичей и таргета\n",
        "features = [\"Pclass\", \"Sex\", \"Age\", \"Fare\", \"Name_len\"]\n",
        "target = \"Survived\""
      ]
    },
    {
      "cell_type": "code",
      "execution_count": 26,
      "metadata": {
        "id": "J3K49_2x-cgV"
      },
      "outputs": [],
      "source": [
        "from sklearn.linear_model import LogisticRegression"
      ]
    },
    {
      "cell_type": "code",
      "execution_count": 27,
      "metadata": {
        "id": "H6aWUDMRAL68"
      },
      "outputs": [],
      "source": [
        "# объявляем модель (можно менять параметры, читайте доку)\n",
        "model = LogisticRegression(random_state=42)"
      ]
    },
    {
      "cell_type": "code",
      "execution_count": 28,
      "metadata": {
        "colab": {
          "base_uri": "https://localhost:8080/",
          "height": 75
        },
        "id": "4wtqGmKLBKgh",
        "outputId": "fdd999d0-5ee6-4608-ce07-c70eb1e0e886"
      },
      "outputs": [
        {
          "data": {
            "text/html": [
              "<style>#sk-container-id-1 {color: black;}#sk-container-id-1 pre{padding: 0;}#sk-container-id-1 div.sk-toggleable {background-color: white;}#sk-container-id-1 label.sk-toggleable__label {cursor: pointer;display: block;width: 100%;margin-bottom: 0;padding: 0.3em;box-sizing: border-box;text-align: center;}#sk-container-id-1 label.sk-toggleable__label-arrow:before {content: \"▸\";float: left;margin-right: 0.25em;color: #696969;}#sk-container-id-1 label.sk-toggleable__label-arrow:hover:before {color: black;}#sk-container-id-1 div.sk-estimator:hover label.sk-toggleable__label-arrow:before {color: black;}#sk-container-id-1 div.sk-toggleable__content {max-height: 0;max-width: 0;overflow: hidden;text-align: left;background-color: #f0f8ff;}#sk-container-id-1 div.sk-toggleable__content pre {margin: 0.2em;color: black;border-radius: 0.25em;background-color: #f0f8ff;}#sk-container-id-1 input.sk-toggleable__control:checked~div.sk-toggleable__content {max-height: 200px;max-width: 100%;overflow: auto;}#sk-container-id-1 input.sk-toggleable__control:checked~label.sk-toggleable__label-arrow:before {content: \"▾\";}#sk-container-id-1 div.sk-estimator input.sk-toggleable__control:checked~label.sk-toggleable__label {background-color: #d4ebff;}#sk-container-id-1 div.sk-label input.sk-toggleable__control:checked~label.sk-toggleable__label {background-color: #d4ebff;}#sk-container-id-1 input.sk-hidden--visually {border: 0;clip: rect(1px 1px 1px 1px);clip: rect(1px, 1px, 1px, 1px);height: 1px;margin: -1px;overflow: hidden;padding: 0;position: absolute;width: 1px;}#sk-container-id-1 div.sk-estimator {font-family: monospace;background-color: #f0f8ff;border: 1px dotted black;border-radius: 0.25em;box-sizing: border-box;margin-bottom: 0.5em;}#sk-container-id-1 div.sk-estimator:hover {background-color: #d4ebff;}#sk-container-id-1 div.sk-parallel-item::after {content: \"\";width: 100%;border-bottom: 1px solid gray;flex-grow: 1;}#sk-container-id-1 div.sk-label:hover label.sk-toggleable__label {background-color: #d4ebff;}#sk-container-id-1 div.sk-serial::before {content: \"\";position: absolute;border-left: 1px solid gray;box-sizing: border-box;top: 0;bottom: 0;left: 50%;z-index: 0;}#sk-container-id-1 div.sk-serial {display: flex;flex-direction: column;align-items: center;background-color: white;padding-right: 0.2em;padding-left: 0.2em;position: relative;}#sk-container-id-1 div.sk-item {position: relative;z-index: 1;}#sk-container-id-1 div.sk-parallel {display: flex;align-items: stretch;justify-content: center;background-color: white;position: relative;}#sk-container-id-1 div.sk-item::before, #sk-container-id-1 div.sk-parallel-item::before {content: \"\";position: absolute;border-left: 1px solid gray;box-sizing: border-box;top: 0;bottom: 0;left: 50%;z-index: -1;}#sk-container-id-1 div.sk-parallel-item {display: flex;flex-direction: column;z-index: 1;position: relative;background-color: white;}#sk-container-id-1 div.sk-parallel-item:first-child::after {align-self: flex-end;width: 50%;}#sk-container-id-1 div.sk-parallel-item:last-child::after {align-self: flex-start;width: 50%;}#sk-container-id-1 div.sk-parallel-item:only-child::after {width: 0;}#sk-container-id-1 div.sk-dashed-wrapped {border: 1px dashed gray;margin: 0 0.4em 0.5em 0.4em;box-sizing: border-box;padding-bottom: 0.4em;background-color: white;}#sk-container-id-1 div.sk-label label {font-family: monospace;font-weight: bold;display: inline-block;line-height: 1.2em;}#sk-container-id-1 div.sk-label-container {text-align: center;}#sk-container-id-1 div.sk-container {/* jupyter's `normalize.less` sets `[hidden] { display: none; }` but bootstrap.min.css set `[hidden] { display: none !important; }` so we also need the `!important` here to be able to override the default hidden behavior on the sphinx rendered scikit-learn.org. See: https://github.com/scikit-learn/scikit-learn/issues/21755 */display: inline-block !important;position: relative;}#sk-container-id-1 div.sk-text-repr-fallback {display: none;}</style><div id=\"sk-container-id-1\" class=\"sk-top-container\"><div class=\"sk-text-repr-fallback\"><pre>LogisticRegression(random_state=42)</pre><b>In a Jupyter environment, please rerun this cell to show the HTML representation or trust the notebook. <br />On GitHub, the HTML representation is unable to render, please try loading this page with nbviewer.org.</b></div><div class=\"sk-container\" hidden><div class=\"sk-item\"><div class=\"sk-estimator sk-toggleable\"><input class=\"sk-toggleable__control sk-hidden--visually\" id=\"sk-estimator-id-1\" type=\"checkbox\" checked><label for=\"sk-estimator-id-1\" class=\"sk-toggleable__label sk-toggleable__label-arrow\">LogisticRegression</label><div class=\"sk-toggleable__content\"><pre>LogisticRegression(random_state=42)</pre></div></div></div></div></div>"
            ],
            "text/plain": [
              "LogisticRegression(random_state=42)"
            ]
          },
          "execution_count": 28,
          "metadata": {},
          "output_type": "execute_result"
        }
      ],
      "source": [
        "# обучаем модель\n",
        "model.fit(X=df_train[features], y=df_train[target])"
      ]
    },
    {
      "cell_type": "code",
      "execution_count": 29,
      "metadata": {
        "id": "r--yPHSHBULx"
      },
      "outputs": [],
      "source": [
        "# делаем предсказания\n",
        "df_train[\"predict\"] = model.predict(df_train[features])\n",
        "df_test[\"predict\"] = model.predict(df_test[features])"
      ]
    },
    {
      "cell_type": "markdown",
      "metadata": {
        "id": "uo2xLy5dDJVs"
      },
      "source": [
        "## Считаем метрики"
      ]
    },
    {
      "cell_type": "code",
      "execution_count": 30,
      "metadata": {
        "colab": {
          "base_uri": "https://localhost:8080/"
        },
        "id": "tPT3eVqeBtSh",
        "outputId": "11537da7-8289-4bc5-fad2-98400b715ba3"
      },
      "outputs": [
        {
          "data": {
            "text/plain": [
              "0.8124118476727785"
            ]
          },
          "execution_count": 30,
          "metadata": {},
          "output_type": "execute_result"
        }
      ],
      "source": [
        "# train set\n",
        "accuracy(y_true=df_train[\"Survived\"], y_pred=df_train[\"predict\"])"
      ]
    },
    {
      "cell_type": "code",
      "execution_count": 31,
      "metadata": {
        "colab": {
          "base_uri": "https://localhost:8080/"
        },
        "id": "LazoWCdHBgg8",
        "outputId": "bfa0aa29-a245-4569-8704-7b9efdcf2d8b"
      },
      "outputs": [
        {
          "data": {
            "text/plain": [
              "0.7584269662921348"
            ]
          },
          "execution_count": 31,
          "metadata": {},
          "output_type": "execute_result"
        }
      ],
      "source": [
        "# test set\n",
        "accuracy(y_true=df_test[\"Survived\"], y_pred=df_test[\"predict\"])"
      ]
    },
    {
      "cell_type": "markdown",
      "metadata": {
        "id": "bI8FZtqKMCAf"
      },
      "source": [
        "### Задание 6.3"
      ]
    },
    {
      "cell_type": "markdown",
      "metadata": {
        "id": "HT5pJ0D3MG7d"
      },
      "source": [
        "(**3 балла**) Получите значение accuracy выше, чем текущее на этом же test-сете. Для этого можете добавлять новые фичи, удалять старые, менять параметры модели и т.д., но не перемешивайте данные"
      ]
    },
    {
      "cell_type": "markdown",
      "metadata": {
        "id": "AaOmJb0xDQCy"
      },
      "source": [
        "## Влияние фичей"
      ]
    },
    {
      "cell_type": "markdown",
      "metadata": {
        "id": "wxox64oREmMU"
      },
      "source": [
        "Для небольших моделей с малым количеством весов (линейные модели, логистическая регрессия) можно смотреть на вес при каждом признаке<br>Чем вес по модулю больше - тем важнее фича, а знак отвечает за то, в положительную или отрицательную сторону признак двигает таргет"
      ]
    },
    {
      "cell_type": "code",
      "execution_count": 32,
      "metadata": {
        "id": "ucC4TojQGRh4"
      },
      "outputs": [],
      "source": [
        "from typing import Any\n",
        "from matplotlib import pyplot as plt\n",
        "\n",
        "\n",
        "# подходит для некоторых функций из sklearn-а, если хотите использовать другие модели - нужно написать кастомную функцию\n",
        "def plot_feat_importance(model: Any, abs_coefs: bool = True):\n",
        "  coefficients = model.coef_\n",
        "  importance = np.abs(model.coef_)[0] if abs_coefs else model.coef_[0]\n",
        "  feature_importance = pd.DataFrame({'feature': features, 'importance': importance, 'abs_importance': np.abs(importance)})\n",
        "  feature_importance = feature_importance.sort_values('abs_importance', ascending=True)\n",
        "  feature_importance.plot(x='feature', y='importance', kind='barh', figsize=(7, 4))\n",
        "  plt.show()\n"
      ]
    },
    {
      "cell_type": "code",
      "execution_count": 33,
      "metadata": {
        "colab": {
          "base_uri": "https://localhost:8080/",
          "height": 368
        },
        "id": "br3cg2tjEuvM",
        "outputId": "e66a54bf-4c5b-485c-b8c8-4a1bd8df78f4"
      },
      "outputs": [
        {
          "data": {
            "image/png": "[encoded data removed]",
            "text/plain": [
              "<Figure size 700x400 with 1 Axes>"
            ]
          },
          "metadata": {},
          "output_type": "display_data"
        }
      ],
      "source": [
        "# в абсолютах\n",
        "plot_feat_importance(model=model, abs_coefs=True)"
      ]
    },
    {
      "cell_type": "code",
      "execution_count": 34,
      "metadata": {
        "colab": {
          "base_uri": "https://localhost:8080/",
          "height": 368
        },
        "id": "Rk_jsl5tGwYq",
        "outputId": "057f2bcc-c8a8-4a60-d034-786617ea464e"
      },
      "outputs": [
        {
          "data": {
            "image/png": "[encoded data removed]",
            "text/plain": [
              "<Figure size 700x400 with 1 Axes>"
            ]
          },
          "metadata": {},
          "output_type": "display_data"
        }
      ],
      "source": [
        "# не в абсолютах\n",
        "plot_feat_importance(model=model, abs_coefs=False)"
      ]
    },
    {
      "cell_type": "code",
      "execution_count": 35,
      "metadata": {
        "colab": {
          "base_uri": "https://localhost:8080/"
        },
        "id": "ZpcE82M3HxSM",
        "outputId": "789c7215-5b4a-4c66-b1f5-4e46385a448f"
      },
      "outputs": [
        {
          "data": {
            "text/plain": [
              "Sex\n",
              "False    0.750958\n",
              "True     0.176339\n",
              "Name: Survived, dtype: float64"
            ]
          },
          "execution_count": 35,
          "metadata": {},
          "output_type": "execute_result"
        }
      ],
      "source": [
        "df_train.groupby([\"Sex\"])[\"Survived\"].mean()"
      ]
    },
    {
      "cell_type": "code",
      "execution_count": 36,
      "metadata": {
        "colab": {
          "base_uri": "https://localhost:8080/"
        },
        "id": "RHWNxcgcIABt",
        "outputId": "4c68280a-bf3c-47c0-b141-fbb2d5e6946a"
      },
      "outputs": [
        {
          "data": {
            "text/plain": [
              "Pclass\n",
              "1    0.641176\n",
              "2    0.489655\n",
              "3    0.241117\n",
              "Name: Survived, dtype: float64"
            ]
          },
          "execution_count": 36,
          "metadata": {},
          "output_type": "execute_result"
        }
      ],
      "source": [
        "df_train.groupby([\"Pclass\"])[\"Survived\"].mean()"
      ]
    },
    {
      "cell_type": "markdown",
      "metadata": {
        "id": "DdW_zSaxIZUn"
      },
      "source": [
        "### Задание 6.4"
      ]
    },
    {
      "cell_type": "markdown",
      "metadata": {
        "id": "jByLgss2NBbf"
      },
      "source": [
        "(**до 5 баллов**) Найдите (или соберите) новый датасет, в котором решаемую задачу можно свести к отличной от бинарной классификации. И проделайте все те же самые действия, а именно:\n",
        "- Изучите данные\n",
        "- Сформулируйте задачу\n",
        "- Обработайте данные и проведите feature-engineering\n",
        "- Разбейте данные на train и test\n",
        "- Подберите и реализуйте метрики\n",
        "- Подберите и обучите модель\n",
        "- Замерьте качество получившейся модели\n",
        "- Посмотрите на влияние отдельных признаков (если используете более сложные моделе, то можете использовать библиотеку [SHAP](https://shap.readthedocs.io/en/latest/))"
      ]
    },
    {
      "cell_type": "code",
      "execution_count": 17,
      "metadata": {},
      "outputs": [
        {
          "name": "stderr",
          "output_type": "stream",
          "text": [
            "c:\\Users\\Валерия Савина\\AppData\\Local\\Programs\\Python\\Python311\\Lib\\site-packages\\sklearn\\preprocessing\\_encoders.py:975: FutureWarning: `sparse` was renamed to `sparse_output` in version 1.2 and will be removed in 1.4. `sparse_output` is ignored unless you leave `sparse` to its default value.\n",
            "  warnings.warn(\n"
          ]
        }
      ],
      "source": [
        "#задание что-то не получается :(\n",
        "\n",
        "import pandas as pd\n",
        "from sklearn.model_selection import train_test_split\n",
        "from sklearn.preprocessing import OneHotEncoder\n",
        "from sklearn.ensemble import RandomForestClassifier\n",
        "from sklearn.datasets import load_breast_cancer\n",
        "from sklearn.metrics import r2_score\n",
        "\n",
        "# Загрузка данных\n",
        "df = pd.read_csv('titanic.csv')\n",
        "\n",
        "# Обработка пропущенных значений\n",
        "df = df.dropna()\n",
        "\n",
        "# Преобразование категориальных переменных\n",
        "encoder = OneHotEncoder(sparse=False)\n",
        "df_encoded = encoder.fit_transform(df)\n"
      ]
    },
    {
      "cell_type": "code",
      "execution_count": 11,
      "metadata": {},
      "outputs": [
        {
          "data": {
            "text/html": [
              "<style>#sk-container-id-1 {color: black;}#sk-container-id-1 pre{padding: 0;}#sk-container-id-1 div.sk-toggleable {background-color: white;}#sk-container-id-1 label.sk-toggleable__label {cursor: pointer;display: block;width: 100%;margin-bottom: 0;padding: 0.3em;box-sizing: border-box;text-align: center;}#sk-container-id-1 label.sk-toggleable__label-arrow:before {content: \"▸\";float: left;margin-right: 0.25em;color: #696969;}#sk-container-id-1 label.sk-toggleable__label-arrow:hover:before {color: black;}#sk-container-id-1 div.sk-estimator:hover label.sk-toggleable__label-arrow:before {color: black;}#sk-container-id-1 div.sk-toggleable__content {max-height: 0;max-width: 0;overflow: hidden;text-align: left;background-color: #f0f8ff;}#sk-container-id-1 div.sk-toggleable__content pre {margin: 0.2em;color: black;border-radius: 0.25em;background-color: #f0f8ff;}#sk-container-id-1 input.sk-toggleable__control:checked~div.sk-toggleable__content {max-height: 200px;max-width: 100%;overflow: auto;}#sk-container-id-1 input.sk-toggleable__control:checked~label.sk-toggleable__label-arrow:before {content: \"▾\";}#sk-container-id-1 div.sk-estimator input.sk-toggleable__control:checked~label.sk-toggleable__label {background-color: #d4ebff;}#sk-container-id-1 div.sk-label input.sk-toggleable__control:checked~label.sk-toggleable__label {background-color: #d4ebff;}#sk-container-id-1 input.sk-hidden--visually {border: 0;clip: rect(1px 1px 1px 1px);clip: rect(1px, 1px, 1px, 1px);height: 1px;margin: -1px;overflow: hidden;padding: 0;position: absolute;width: 1px;}#sk-container-id-1 div.sk-estimator {font-family: monospace;background-color: #f0f8ff;border: 1px dotted black;border-radius: 0.25em;box-sizing: border-box;margin-bottom: 0.5em;}#sk-container-id-1 div.sk-estimator:hover {background-color: #d4ebff;}#sk-container-id-1 div.sk-parallel-item::after {content: \"\";width: 100%;border-bottom: 1px solid gray;flex-grow: 1;}#sk-container-id-1 div.sk-label:hover label.sk-toggleable__label {background-color: #d4ebff;}#sk-container-id-1 div.sk-serial::before {content: \"\";position: absolute;border-left: 1px solid gray;box-sizing: border-box;top: 0;bottom: 0;left: 50%;z-index: 0;}#sk-container-id-1 div.sk-serial {display: flex;flex-direction: column;align-items: center;background-color: white;padding-right: 0.2em;padding-left: 0.2em;position: relative;}#sk-container-id-1 div.sk-item {position: relative;z-index: 1;}#sk-container-id-1 div.sk-parallel {display: flex;align-items: stretch;justify-content: center;background-color: white;position: relative;}#sk-container-id-1 div.sk-item::before, #sk-container-id-1 div.sk-parallel-item::before {content: \"\";position: absolute;border-left: 1px solid gray;box-sizing: border-box;top: 0;bottom: 0;left: 50%;z-index: -1;}#sk-container-id-1 div.sk-parallel-item {display: flex;flex-direction: column;z-index: 1;position: relative;background-color: white;}#sk-container-id-1 div.sk-parallel-item:first-child::after {align-self: flex-end;width: 50%;}#sk-container-id-1 div.sk-parallel-item:last-child::after {align-self: flex-start;width: 50%;}#sk-container-id-1 div.sk-parallel-item:only-child::after {width: 0;}#sk-container-id-1 div.sk-dashed-wrapped {border: 1px dashed gray;margin: 0 0.4em 0.5em 0.4em;box-sizing: border-box;padding-bottom: 0.4em;background-color: white;}#sk-container-id-1 div.sk-label label {font-family: monospace;font-weight: bold;display: inline-block;line-height: 1.2em;}#sk-container-id-1 div.sk-label-container {text-align: center;}#sk-container-id-1 div.sk-container {/* jupyter's `normalize.less` sets `[hidden] { display: none; }` but bootstrap.min.css set `[hidden] { display: none !important; }` so we also need the `!important` here to be able to override the default hidden behavior on the sphinx rendered scikit-learn.org. See: https://github.com/scikit-learn/scikit-learn/issues/21755 */display: inline-block !important;position: relative;}#sk-container-id-1 div.sk-text-repr-fallback {display: none;}</style><div id=\"sk-container-id-1\" class=\"sk-top-container\"><div class=\"sk-text-repr-fallback\"><pre>RandomForestClassifier(random_state=1)</pre><b>In a Jupyter environment, please rerun this cell to show the HTML representation or trust the notebook. <br />On GitHub, the HTML representation is unable to render, please try loading this page with nbviewer.org.</b></div><div class=\"sk-container\" hidden><div class=\"sk-item\"><div class=\"sk-estimator sk-toggleable\"><input class=\"sk-toggleable__control sk-hidden--visually\" id=\"sk-estimator-id-1\" type=\"checkbox\" checked><label for=\"sk-estimator-id-1\" class=\"sk-toggleable__label sk-toggleable__label-arrow\">RandomForestClassifier</label><div class=\"sk-toggleable__content\"><pre>RandomForestClassifier(random_state=1)</pre></div></div></div></div></div>"
            ],
            "text/plain": [
              "RandomForestClassifier(random_state=1)"
            ]
          },
          "execution_count": 11,
          "metadata": {},
          "output_type": "execute_result"
        }
      ],
      "source": [
        "data = load_breast_cancer()\n",
        "\n",
        "X = data.data\n",
        "y = data.target\n",
        "X_train, X_test, y_train, y_test = train_test_split(X, y, test_size=0.2, random_state=42)\n",
        "\n",
        "clf = RandomForestClassifier(random_state=1)\n",
        "clf.fit(X_train, y_train)\n",
        "\n",
        "\n"
      ]
    },
    {
      "cell_type": "code",
      "execution_count": 14,
      "metadata": {},
      "outputs": [],
      "source": [
        "#оценка модели\n",
        "y_pred = clf.predict(X_test)\n"
      ]
    },
    {
      "cell_type": "code",
      "execution_count": 18,
      "metadata": {},
      "outputs": [
        {
          "ename": "NameError",
          "evalue": "name 'LinearRegression' is not defined",
          "output_type": "error",
          "traceback": [
            "\u001b[1;31m---------------------------------------------------------------------------\u001b[0m",
            "\u001b[1;31mNameError\u001b[0m                                 Traceback (most recent call last)",
            "\u001b[1;32mc:\\Users\\Валерия Савина\\Downloads\\6_ml_classic (2).ipynb Ячейка 53\u001b[0m line \u001b[0;36m2\n\u001b[0;32m      <a href='vscode-notebook-cell:/c%3A/Users/%D0%92%D0%B0%D0%BB%D0%B5%D1%80%D0%B8%D1%8F%20%D0%A1%D0%B0%D0%B2%D0%B8%D0%BD%D0%B0/Downloads/6_ml_classic%20%282%29.ipynb#Y103sZmlsZQ%3D%3D?line=0'>1</a>\u001b[0m \u001b[39m# Подбор и обучение модели\u001b[39;00m\n\u001b[1;32m----> <a href='vscode-notebook-cell:/c%3A/Users/%D0%92%D0%B0%D0%BB%D0%B5%D1%80%D0%B8%D1%8F%20%D0%A1%D0%B0%D0%B2%D0%B8%D0%BD%D0%B0/Downloads/6_ml_classic%20%282%29.ipynb#Y103sZmlsZQ%3D%3D?line=1'>2</a>\u001b[0m model \u001b[39m=\u001b[39m LinearRegression()\n\u001b[0;32m      <a href='vscode-notebook-cell:/c%3A/Users/%D0%92%D0%B0%D0%BB%D0%B5%D1%80%D0%B8%D1%8F%20%D0%A1%D0%B0%D0%B2%D0%B8%D0%BD%D0%B0/Downloads/6_ml_classic%20%282%29.ipynb#Y103sZmlsZQ%3D%3D?line=2'>3</a>\u001b[0m model\u001b[39m.\u001b[39mfit(X_train, y_train)\n",
            "\u001b[1;31mNameError\u001b[0m: name 'LinearRegression' is not defined"
          ]
        }
      ],
      "source": [
        "# Подбор и обучение модели\n",
        "model = LinearRegression()\n",
        "model.fit(X_train, y_train)\n"
      ]
    },
    {
      "cell_type": "code",
      "execution_count": 19,
      "metadata": {},
      "outputs": [
        {
          "ename": "NameError",
          "evalue": "name 'model' is not defined",
          "output_type": "error",
          "traceback": [
            "\u001b[1;31m---------------------------------------------------------------------------\u001b[0m",
            "\u001b[1;31mNameError\u001b[0m                                 Traceback (most recent call last)",
            "\u001b[1;32mc:\\Users\\Валерия Савина\\Downloads\\6_ml_classic (2).ipynb Ячейка 54\u001b[0m line \u001b[0;36m2\n\u001b[0;32m      <a href='vscode-notebook-cell:/c%3A/Users/%D0%92%D0%B0%D0%BB%D0%B5%D1%80%D0%B8%D1%8F%20%D0%A1%D0%B0%D0%B2%D0%B8%D0%BD%D0%B0/Downloads/6_ml_classic%20%282%29.ipynb#Y104sZmlsZQ%3D%3D?line=0'>1</a>\u001b[0m \u001b[39m# Измерение качества получившейся модели\u001b[39;00m\n\u001b[1;32m----> <a href='vscode-notebook-cell:/c%3A/Users/%D0%92%D0%B0%D0%BB%D0%B5%D1%80%D0%B8%D1%8F%20%D0%A1%D0%B0%D0%B2%D0%B8%D0%BD%D0%B0/Downloads/6_ml_classic%20%282%29.ipynb#Y104sZmlsZQ%3D%3D?line=1'>2</a>\u001b[0m y_pred \u001b[39m=\u001b[39m model\u001b[39m.\u001b[39mpredict(X_test)\n\u001b[0;32m      <a href='vscode-notebook-cell:/c%3A/Users/%D0%92%D0%B0%D0%BB%D0%B5%D1%80%D0%B8%D1%8F%20%D0%A1%D0%B0%D0%B2%D0%B8%D0%BD%D0%B0/Downloads/6_ml_classic%20%282%29.ipynb#Y104sZmlsZQ%3D%3D?line=2'>3</a>\u001b[0m mse \u001b[39m=\u001b[39m mean_squared_error(y_test, y_pred)\n\u001b[0;32m      <a href='vscode-notebook-cell:/c%3A/Users/%D0%92%D0%B0%D0%BB%D0%B5%D1%80%D0%B8%D1%8F%20%D0%A1%D0%B0%D0%B2%D0%B8%D0%BD%D0%B0/Downloads/6_ml_classic%20%282%29.ipynb#Y104sZmlsZQ%3D%3D?line=3'>4</a>\u001b[0m \u001b[39mprint\u001b[39m(\u001b[39m\"\u001b[39m\u001b[39mMean Squared Error:\u001b[39m\u001b[39m\"\u001b[39m, mse)\n",
            "\u001b[1;31mNameError\u001b[0m: name 'model' is not defined"
          ]
        }
      ],
      "source": [
        "# Измерение качества получившейся модели\n",
        "y_pred = model.predict(X_test)\n",
        "mse = mean_squared_error(y_test, y_pred)\n",
        "print(\"Mean Squared Error:\", mse)\n",
        "print(\"R2 Score:\", r2_score(y_test, y_pred))"
      ]
    }
  ],
  "metadata": {
    "colab": {
      "provenance": [],
      "toc_visible": true
    },
    "kernelspec": {
      "display_name": "Python 3 (ipykernel)",
      "language": "python",
      "name": "python3"
    },
    "language_info": {
      "codemirror_mode": {
        "name": "ipython",
        "version": 3
      },
      "file_extension": ".py",
      "mimetype": "text/x-python",
      "name": "python",
      "nbconvert_exporter": "python",
      "pygments_lexer": "ipython3",
      "version": "3.11.5"
    }
  },
  "nbformat": 4,
  "nbformat_minor": 0
}
